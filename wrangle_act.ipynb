{
 "cells": [
  {
   "cell_type": "markdown",
   "metadata": {},
   "source": [
    "# WeRateDogs Twitter Feed"
   ]
  },
  {
   "cell_type": "markdown",
   "metadata": {},
   "source": [
    "This project looks at various data sources for Tweets from the [WeRateDogs](https://twitter.com/dog_rates) Twitter account, specifically:\n",
    "\n",
    "1. the `twitter-archive-enhanced.csv` which contains the tweet text, as is the core data set\n",
    "1. the Twitter API is used to access the original tweets to retrieve missing fields such as the retweet and favorite counts\n",
    "1. an image prediction file containing the top 3 predictions for each of the (up to 4) dog pictures in the tweet\n",
    "\n",
    "Having gathered the data, we assess, clean and analyse it.\n"
   ]
  },
  {
   "cell_type": "markdown",
   "metadata": {},
   "source": [
    "---\n",
    "---\n",
    "\n",
    "## Gather"
   ]
  },
  {
   "cell_type": "markdown",
   "metadata": {},
   "source": [
    "We use a number of data assets including remote files on web servers, and JSON payloads returned by the Twitter API."
   ]
  },
  {
   "cell_type": "code",
   "execution_count": 1,
   "metadata": {},
   "outputs": [],
   "source": [
    "WE_RATE_DOGS_TWEETS_PATH = 'data/twitter-archive-enhanced.csv'\n",
    "DOG_BREED_PREDICTIONS_SOURCE_URL = 'https://d17h27t6h515a5.cloudfront.net/topher/2017/August/599fd2ad_image-predictions/image-predictions.tsv'"
   ]
  },
  {
   "cell_type": "markdown",
   "metadata": {},
   "source": [
    "### Gather the enhanced Tweets data"
   ]
  },
  {
   "cell_type": "markdown",
   "metadata": {},
   "source": [
    "Pandas `read_csv()` function is quite versatile when uploading data, and can be configured to handle different date formats, numeric data types, not available (NA) markers, etc. Getting this right upfront can save time, but requires the raw data in files to be eyeballed first. For this we can use command line tools like head & tail, or alternatively Excel, which allows column headings to be frozen, data to be sorted and searched, etc."
   ]
  },
  {
   "cell_type": "markdown",
   "metadata": {},
   "source": [
    "Having looked at the raw data, we make the following observations:\n",
    "\n",
    "1. tweet Ids are large integers, we need to select an approriate integer datatype so no accuracy is lost\n",
    "1. some tweet Ids use floats, e.g.: `in_reply_to_status_id`, `in_reply_to_user_id`, with NaNs used as a Not Available marker, as mentioned above these need to be converted to integers\n",
    "1. time stamps are close to ISO 8601 format, and are GMT"
   ]
  },
  {
   "cell_type": "markdown",
   "metadata": {},
   "source": [
    "Actions taken to address above observations:\n",
    "\n",
    "* convert floating point tweets Ids to a 64-bit integer, retaining the Not Available representation\n",
    "* specifcally tell Pandas which columns are dates"
   ]
  },
  {
   "cell_type": "code",
   "execution_count": 2,
   "metadata": {},
   "outputs": [],
   "source": [
    "import yaml\n",
    "import tweepy\n",
    "import json"
   ]
  },
  {
   "cell_type": "code",
   "execution_count": 3,
   "metadata": {},
   "outputs": [],
   "source": [
    "import numpy as np\n",
    "import pandas as pd"
   ]
  },
  {
   "cell_type": "markdown",
   "metadata": {},
   "source": [
    "Load the enhanced Twitter archive, using explicit data types for fields, instead of letting Pandas infer them. The [Twitter API](https://developer.twitter.com/en/docs/twitter-api/v1/data-dictionary/overview/tweet-object) will define the data types for the Twitter sourced fields.\n",
    "\n",
    "To get around the fact that nullable numeric fields are interpreted by `read_csv()` as floats (thus allowing NaNs to represent null), we will map nullable tweet Ids to the Pandas nullable integer data type (Int64)."
   ]
  },
  {
   "cell_type": "code",
   "execution_count": 4,
   "metadata": {},
   "outputs": [],
   "source": [
    "feed_data_types = {\n",
    "    'tweet_id': np.int64,\n",
    "    'in_reply_to_status_id': 'Int64',\n",
    "    'in_reply_to_user_id': 'Int64',\n",
    "    'retweeted_status_id': 'Int64',\n",
    "    'retweeted_status_user_id': 'Int64',\n",
    "    'text': 'string',\n",
    "    'expanded_urls': 'string',\n",
    "    'rating_numerator': np.int32,\n",
    "    'rating_denominator': np.int32,\n",
    "    'name': 'string',\n",
    "    'doggo': 'string',\n",
    "    'floofer': 'string',\n",
    "    'pupper': 'string',\n",
    "    'puppo': 'string'\n",
    "}\n",
    "\n",
    "feed_date_cols = [\n",
    "    'timestamp', \n",
    "    'retweeted_status_timestamp'\n",
    "]"
   ]
  },
  {
   "cell_type": "code",
   "execution_count": 5,
   "metadata": {},
   "outputs": [
    {
     "data": {
      "text/plain": [
       "(2356, 16)"
      ]
     },
     "execution_count": 5,
     "metadata": {},
     "output_type": "execute_result"
    }
   ],
   "source": [
    "enhanced_tweets_df = pd.read_csv(WE_RATE_DOGS_TWEETS_PATH,\n",
    "                        index_col=['tweet_id'],\n",
    "                        dtype=feed_data_types,\n",
    "                        parse_dates=feed_date_cols)\n",
    "enhanced_tweets_df.shape"
   ]
  },
  {
   "cell_type": "markdown",
   "metadata": {},
   "source": [
    "The first discrepancy we note is that, according to the project motivation document, the main \"archive contains basic tweet data for all 5000+ of their tweets\" however that is clearly not the case as, having loaded it, the number of tweets is less than half that. As this is the master data set we have been provided with, this is the data we have to go with, since it has been previously enhanced.\n",
    "\n",
    "To sanity check this row count, and make sure we have actually read in all the eprovided data, we will run a line count on the input file, which should roughly match the number of rows in the data frame. Any discrepancy on counts is due to those embeded new line (NL) characters in the tweet text, since the number of NL characters is what `wc` bases its line counts on."
   ]
  },
  {
   "cell_type": "code",
   "execution_count": 6,
   "metadata": {},
   "outputs": [
    {
     "name": "stdout",
     "output_type": "stream",
     "text": [
      "2518 data/twitter-archive-enhanced.csv\r\n"
     ]
    }
   ],
   "source": [
    "!wc -l {WE_RATE_DOGS_TWEETS_PATH}"
   ]
  },
  {
   "cell_type": "markdown",
   "metadata": {},
   "source": [
    "Now we can double check the column data types, against the data type mapping provided to `read_csv()`."
   ]
  },
  {
   "cell_type": "code",
   "execution_count": 7,
   "metadata": {},
   "outputs": [
    {
     "name": "stdout",
     "output_type": "stream",
     "text": [
      "<class 'pandas.core.frame.DataFrame'>\n",
      "Int64Index: 2356 entries, 892420643555336193 to 666020888022790149\n",
      "Data columns (total 16 columns):\n",
      " #   Column                      Non-Null Count  Dtype              \n",
      "---  ------                      --------------  -----              \n",
      " 0   in_reply_to_status_id       78 non-null     Int64              \n",
      " 1   in_reply_to_user_id         78 non-null     Int64              \n",
      " 2   timestamp                   2356 non-null   datetime64[ns, UTC]\n",
      " 3   source                      2356 non-null   object             \n",
      " 4   text                        2356 non-null   string             \n",
      " 5   retweeted_status_id         181 non-null    Int64              \n",
      " 6   retweeted_status_user_id    181 non-null    Int64              \n",
      " 7   retweeted_status_timestamp  181 non-null    datetime64[ns, UTC]\n",
      " 8   expanded_urls               2297 non-null   string             \n",
      " 9   rating_numerator            2356 non-null   int32              \n",
      " 10  rating_denominator          2356 non-null   int32              \n",
      " 11  name                        2356 non-null   string             \n",
      " 12  doggo                       2356 non-null   string             \n",
      " 13  floofer                     2356 non-null   string             \n",
      " 14  pupper                      2356 non-null   string             \n",
      " 15  puppo                       2356 non-null   string             \n",
      "dtypes: Int64(4), datetime64[ns, UTC](2), int32(2), object(1), string(7)\n",
      "memory usage: 303.7+ KB\n"
     ]
    }
   ],
   "source": [
    "enhanced_tweets_df.info()"
   ]
  },
  {
   "cell_type": "markdown",
   "metadata": {},
   "source": [
    "### Gather the Twitter API enrichment data"
   ]
  },
  {
   "cell_type": "markdown",
   "metadata": {},
   "source": [
    "Next we want to use the Twitter API to retrieve the original tweets, so that we can enrich our enhanced tweets data with the missing attributes previously idientified (`retweet_counts`, `favorite_counts`)."
   ]
  },
  {
   "cell_type": "markdown",
   "metadata": {},
   "source": [
    "Having registered with Twitter as a developer, and obtained credentials and keys, we stored these in a private project directory and configuration file (which are excluded from our git repo, and thus won't be visible online in [github](https://github.com/benvens-udacity/wrangle-and-analyze-data/blob/main/wrangle_act.ipynb)).\n",
    "\n",
    "We now use those credentials to authenticate with Twitter for API access."
   ]
  },
  {
   "cell_type": "code",
   "execution_count": 8,
   "metadata": {},
   "outputs": [],
   "source": [
    "def read_creds(conf_path):\n",
    "    with open(conf_path, 'r') as cf:\n",
    "        config = yaml.load(cf, Loader=yaml.FullLoader)\n",
    "        return config"
   ]
  },
  {
   "cell_type": "code",
   "execution_count": 9,
   "metadata": {},
   "outputs": [],
   "source": [
    "creds = read_creds('./config/private/creds.yaml')"
   ]
  },
  {
   "cell_type": "code",
   "execution_count": 10,
   "metadata": {},
   "outputs": [],
   "source": [
    "consumer_key = creds['consumer_api']['key']\n",
    "consumer_secret = creds['consumer_api']['secret']"
   ]
  },
  {
   "cell_type": "code",
   "execution_count": 11,
   "metadata": {},
   "outputs": [],
   "source": [
    "auth = tweepy.OAuthHandler(consumer_key, consumer_secret)"
   ]
  },
  {
   "cell_type": "code",
   "execution_count": 12,
   "metadata": {},
   "outputs": [],
   "source": [
    "access_token = creds['access_token']['token']\n",
    "acess_secret = creds['access_token']['secret']"
   ]
  },
  {
   "cell_type": "code",
   "execution_count": 13,
   "metadata": {},
   "outputs": [],
   "source": [
    "auth.set_access_token(access_token, acess_secret)"
   ]
  },
  {
   "cell_type": "markdown",
   "metadata": {},
   "source": [
    "Next we will load the enrichment data in batches, for better performance, as API invocations are subject to significant network latency. Twitter also applies rate limiting to their APIs, so it is necessary to throttle the rate at which we make requests, and to retry any failed requests. Luckily, this can be handled automatically by the Tweepy library, by setting the `wait_on_rate_limit_notify` flag when configuring API connection."
   ]
  },
  {
   "cell_type": "code",
   "execution_count": 14,
   "metadata": {},
   "outputs": [],
   "source": [
    "api = tweepy.API(auth, wait_on_rate_limit_notify=True)"
   ]
  },
  {
   "cell_type": "code",
   "execution_count": 15,
   "metadata": {},
   "outputs": [],
   "source": [
    "def process_batch(batch):\n",
    "    idxs = []\n",
    "    retweet_counts = []\n",
    "    favorite_counts = []\n",
    "    for status in batch:\n",
    "        tweet = status._json\n",
    "        idxs.append(tweet['id'])\n",
    "        retweet_counts.append(tweet['retweet_count'])\n",
    "        favorite_counts.append(tweet['favorite_count'])\n",
    "    return np.array(idxs, dtype=np.int64), np.array([retweet_counts, favorite_counts], dtype=np.int64).T"
   ]
  },
  {
   "cell_type": "code",
   "execution_count": 16,
   "metadata": {},
   "outputs": [],
   "source": [
    "indices = np.empty((0), dtype=np.int64)\n",
    "rows = np.empty((0, 2), dtype=np.int64)"
   ]
  },
  {
   "cell_type": "code",
   "execution_count": 17,
   "metadata": {},
   "outputs": [],
   "source": [
    "batch_size = 100\n",
    "num_tweets = len(enhanced_tweets_df.index)"
   ]
  },
  {
   "cell_type": "code",
   "execution_count": 18,
   "metadata": {},
   "outputs": [
    {
     "name": "stdout",
     "output_type": "stream",
     "text": [
      "CPU times: user 2.03 s, sys: 102 ms, total: 2.13 s\n",
      "Wall time: 14.6 s\n"
     ]
    }
   ],
   "source": [
    "%%time \n",
    "for batch_start in range(0, num_tweets, batch_size):\n",
    "    batch_end = min(batch_start + batch_size, num_tweets)\n",
    "    batch_tweet_ids = enhanced_tweets_df.iloc[batch_start:batch_end].index.to_numpy().tolist()\n",
    "    statuses = api.statuses_lookup(batch_tweet_ids, include_entities=False, map_=False)\n",
    "    b_indices, b_rows = process_batch(statuses)\n",
    "    indices = np.concatenate((indices, b_indices), axis=0)\n",
    "    rows = np.concatenate((rows, b_rows), axis=0)"
   ]
  },
  {
   "cell_type": "code",
   "execution_count": 19,
   "metadata": {},
   "outputs": [
    {
     "data": {
      "text/plain": [
       "(2331, 2)"
      ]
     },
     "execution_count": 19,
     "metadata": {},
     "output_type": "execute_result"
    }
   ],
   "source": [
    "tweet_counts_df = pd.DataFrame(index=indices, data=rows, \n",
    "                               columns=['retweet_counts', 'favorite_counts'], \n",
    "                               dtype='Int32').sort_index()\n",
    "tweet_counts_df.index.name = 'tweet_id'\n",
    "tweet_counts_df.shape"
   ]
  },
  {
   "cell_type": "markdown",
   "metadata": {},
   "source": [
    "Again, we briefly double check on the expected column data type mapping."
   ]
  },
  {
   "cell_type": "code",
   "execution_count": 20,
   "metadata": {},
   "outputs": [
    {
     "name": "stdout",
     "output_type": "stream",
     "text": [
      "<class 'pandas.core.frame.DataFrame'>\n",
      "Int64Index: 2331 entries, 666020888022790149 to 892420643555336193\n",
      "Data columns (total 2 columns):\n",
      " #   Column           Non-Null Count  Dtype\n",
      "---  ------           --------------  -----\n",
      " 0   retweet_counts   2331 non-null   Int32\n",
      " 1   favorite_counts  2331 non-null   Int32\n",
      "dtypes: Int32(2)\n",
      "memory usage: 41.0 KB\n"
     ]
    }
   ],
   "source": [
    "tweet_counts_df.info()"
   ]
  },
  {
   "cell_type": "markdown",
   "metadata": {},
   "source": [
    "### Gather the breed prediction data"
   ]
  },
  {
   "cell_type": "markdown",
   "metadata": {},
   "source": [
    "Finally we need to gather the breed prediction data. We will read this data from the CloudFront URL, as opposed to the local filesystem, to ensure we get the most up-to-date version."
   ]
  },
  {
   "cell_type": "code",
   "execution_count": 21,
   "metadata": {},
   "outputs": [],
   "source": [
    "img_preds_data_types = {\n",
    "    'tweet_id': 'Int64',\n",
    "    'jpg_url': 'string',\n",
    "    'img_num': np.int32,\n",
    "    'p1': 'string',\n",
    "    'p1_conf': np.float32,\n",
    "    'p1_dog': bool,\n",
    "    'p2': 'string',\n",
    "    'p2_conf': np.float32,\n",
    "    'p2_dog': bool,\n",
    "    'p3': 'string',\n",
    "    'p3_conf': np.float32,\n",
    "    'p3_dog': bool\n",
    "}"
   ]
  },
  {
   "cell_type": "code",
   "execution_count": 22,
   "metadata": {},
   "outputs": [
    {
     "data": {
      "text/plain": [
       "(2075, 11)"
      ]
     },
     "execution_count": 22,
     "metadata": {},
     "output_type": "execute_result"
    }
   ],
   "source": [
    "# Load the TSV (not CSV) records, and tell read_csv() to use a tab as the field separator\n",
    "\n",
    "img_preds_df = pd.read_csv(DOG_BREED_PREDICTIONS_SOURCE_URL,\n",
    "                           index_col=['tweet_id'],\n",
    "                           sep='\\t', \n",
    "                           dtype=img_preds_data_types)\n",
    "img_preds_df.shape"
   ]
  },
  {
   "cell_type": "markdown",
   "metadata": {},
   "source": [
    "And finally we check for correct data type mapping."
   ]
  },
  {
   "cell_type": "code",
   "execution_count": 23,
   "metadata": {},
   "outputs": [
    {
     "name": "stdout",
     "output_type": "stream",
     "text": [
      "<class 'pandas.core.frame.DataFrame'>\n",
      "Index: 2075 entries, 666020888022790149 to 892420643555336193\n",
      "Data columns (total 11 columns):\n",
      " #   Column   Non-Null Count  Dtype  \n",
      "---  ------   --------------  -----  \n",
      " 0   jpg_url  2075 non-null   string \n",
      " 1   img_num  2075 non-null   int32  \n",
      " 2   p1       2075 non-null   string \n",
      " 3   p1_conf  2075 non-null   float32\n",
      " 4   p1_dog   2075 non-null   bool   \n",
      " 5   p2       2075 non-null   string \n",
      " 6   p2_conf  2075 non-null   float32\n",
      " 7   p2_dog   2075 non-null   bool   \n",
      " 8   p3       2075 non-null   string \n",
      " 9   p3_conf  2075 non-null   float32\n",
      " 10  p3_dog   2075 non-null   bool   \n",
      "dtypes: bool(3), float32(3), int32(1), string(4)\n",
      "memory usage: 119.6+ KB\n"
     ]
    }
   ],
   "source": [
    "img_preds_df.info()"
   ]
  },
  {
   "cell_type": "markdown",
   "metadata": {},
   "source": [
    "---\n",
    "---\n",
    "\n",
    "## Assess"
   ]
  },
  {
   "cell_type": "markdown",
   "metadata": {},
   "source": [
    "Having gathered the data we will now assess it, ideally both visually and programmatically. \n",
    "\n",
    "Some of this visual assesment has already been done against the raw data in files, to ensure we used appropriate data types when uploading the data. Therefore some data quality issues (large integers stored as floating point, with potential loss of accuracy, which invalidates their meaning as an identifier) have been addressed at upload time."
   ]
  },
  {
   "cell_type": "markdown",
   "metadata": {},
   "source": [
    "### Visual assessment"
   ]
  },
  {
   "cell_type": "markdown",
   "metadata": {},
   "source": [
    "We will inspect the data that has been uploaded into the corresponding dataframes."
   ]
  },
  {
   "cell_type": "code",
   "execution_count": 24,
   "metadata": {},
   "outputs": [],
   "source": [
    "# Raise the number of viewable rows and columns\n",
    "# Retain some kind of row counts, as very large data sets may get loaded into the browser, causing memory issues\n",
    "\n",
    "pd.set_option('display.max_rows', 10000)\n",
    "pd.set_option('display.max_columns', None)\n",
    "pd.set_option('display.max_colwidth', None)"
   ]
  },
  {
   "cell_type": "markdown",
   "metadata": {},
   "source": [
    "#### Enhanced tweets"
   ]
  },
  {
   "cell_type": "markdown",
   "metadata": {},
   "source": [
    "We assess some tweets that include a dog stage name."
   ]
  },
  {
   "cell_type": "code",
   "execution_count": 25,
   "metadata": {},
   "outputs": [
    {
     "data": {
      "text/html": [
       "<div>\n",
       "<style scoped>\n",
       "    .dataframe tbody tr th:only-of-type {\n",
       "        vertical-align: middle;\n",
       "    }\n",
       "\n",
       "    .dataframe tbody tr th {\n",
       "        vertical-align: top;\n",
       "    }\n",
       "\n",
       "    .dataframe thead th {\n",
       "        text-align: right;\n",
       "    }\n",
       "</style>\n",
       "<table border=\"1\" class=\"dataframe\">\n",
       "  <thead>\n",
       "    <tr style=\"text-align: right;\">\n",
       "      <th></th>\n",
       "      <th>in_reply_to_status_id</th>\n",
       "      <th>in_reply_to_user_id</th>\n",
       "      <th>timestamp</th>\n",
       "      <th>source</th>\n",
       "      <th>text</th>\n",
       "      <th>retweeted_status_id</th>\n",
       "      <th>retweeted_status_user_id</th>\n",
       "      <th>retweeted_status_timestamp</th>\n",
       "      <th>expanded_urls</th>\n",
       "      <th>rating_numerator</th>\n",
       "      <th>rating_denominator</th>\n",
       "      <th>name</th>\n",
       "      <th>doggo</th>\n",
       "      <th>floofer</th>\n",
       "      <th>pupper</th>\n",
       "      <th>puppo</th>\n",
       "    </tr>\n",
       "    <tr>\n",
       "      <th>tweet_id</th>\n",
       "      <th></th>\n",
       "      <th></th>\n",
       "      <th></th>\n",
       "      <th></th>\n",
       "      <th></th>\n",
       "      <th></th>\n",
       "      <th></th>\n",
       "      <th></th>\n",
       "      <th></th>\n",
       "      <th></th>\n",
       "      <th></th>\n",
       "      <th></th>\n",
       "      <th></th>\n",
       "      <th></th>\n",
       "      <th></th>\n",
       "      <th></th>\n",
       "    </tr>\n",
       "  </thead>\n",
       "  <tbody>\n",
       "    <tr>\n",
       "      <th>890240255349198849</th>\n",
       "      <td>&lt;NA&gt;</td>\n",
       "      <td>&lt;NA&gt;</td>\n",
       "      <td>2017-07-26 15:59:51+00:00</td>\n",
       "      <td>&lt;a href=\"http://twitter.com/download/iphone\" rel=\"nofollow\"&gt;Twitter for iPhone&lt;/a&gt;</td>\n",
       "      <td>This is Cassie. She is a college pup. Studying international doggo communication and stick theory. 14/10 so elegant much sophisticate https://t.co/t1bfwz5S2A</td>\n",
       "      <td>&lt;NA&gt;</td>\n",
       "      <td>&lt;NA&gt;</td>\n",
       "      <td>NaT</td>\n",
       "      <td>https://twitter.com/dog_rates/status/890240255349198849/photo/1</td>\n",
       "      <td>14</td>\n",
       "      <td>10</td>\n",
       "      <td>Cassie</td>\n",
       "      <td>doggo</td>\n",
       "      <td>None</td>\n",
       "      <td>None</td>\n",
       "      <td>None</td>\n",
       "    </tr>\n",
       "    <tr>\n",
       "      <th>889665388333682689</th>\n",
       "      <td>&lt;NA&gt;</td>\n",
       "      <td>&lt;NA&gt;</td>\n",
       "      <td>2017-07-25 01:55:32+00:00</td>\n",
       "      <td>&lt;a href=\"http://twitter.com/download/iphone\" rel=\"nofollow\"&gt;Twitter for iPhone&lt;/a&gt;</td>\n",
       "      <td>Here's a puppo that seems to be on the fence about something haha no but seriously someone help her. 13/10 https://t.co/BxvuXk0UCm</td>\n",
       "      <td>&lt;NA&gt;</td>\n",
       "      <td>&lt;NA&gt;</td>\n",
       "      <td>NaT</td>\n",
       "      <td>https://twitter.com/dog_rates/status/889665388333682689/photo/1</td>\n",
       "      <td>13</td>\n",
       "      <td>10</td>\n",
       "      <td>None</td>\n",
       "      <td>None</td>\n",
       "      <td>None</td>\n",
       "      <td>None</td>\n",
       "      <td>puppo</td>\n",
       "    </tr>\n",
       "    <tr>\n",
       "      <th>889531135344209921</th>\n",
       "      <td>&lt;NA&gt;</td>\n",
       "      <td>&lt;NA&gt;</td>\n",
       "      <td>2017-07-24 17:02:04+00:00</td>\n",
       "      <td>&lt;a href=\"http://twitter.com/download/iphone\" rel=\"nofollow\"&gt;Twitter for iPhone&lt;/a&gt;</td>\n",
       "      <td>This is Stuart. He's sporting his favorite fanny pack. Secretly filled with bones only. 13/10 puppared puppo #BarkWeek https://t.co/y70o6h3isq</td>\n",
       "      <td>&lt;NA&gt;</td>\n",
       "      <td>&lt;NA&gt;</td>\n",
       "      <td>NaT</td>\n",
       "      <td>https://twitter.com/dog_rates/status/889531135344209921/photo/1</td>\n",
       "      <td>13</td>\n",
       "      <td>10</td>\n",
       "      <td>Stuart</td>\n",
       "      <td>None</td>\n",
       "      <td>None</td>\n",
       "      <td>None</td>\n",
       "      <td>puppo</td>\n",
       "    </tr>\n",
       "    <tr>\n",
       "      <th>886366144734445568</th>\n",
       "      <td>&lt;NA&gt;</td>\n",
       "      <td>&lt;NA&gt;</td>\n",
       "      <td>2017-07-15 23:25:31+00:00</td>\n",
       "      <td>&lt;a href=\"http://twitter.com/download/iphone\" rel=\"nofollow\"&gt;Twitter for iPhone&lt;/a&gt;</td>\n",
       "      <td>This is Roscoe. Another pupper fallen victim to spontaneous tongue ejections. Get the BlepiPen immediate. 12/10 deep breaths Roscoe https://t.co/RGE08MIJox</td>\n",
       "      <td>&lt;NA&gt;</td>\n",
       "      <td>&lt;NA&gt;</td>\n",
       "      <td>NaT</td>\n",
       "      <td>https://twitter.com/dog_rates/status/886366144734445568/photo/1,https://twitter.com/dog_rates/status/886366144734445568/photo/1</td>\n",
       "      <td>12</td>\n",
       "      <td>10</td>\n",
       "      <td>Roscoe</td>\n",
       "      <td>None</td>\n",
       "      <td>None</td>\n",
       "      <td>pupper</td>\n",
       "      <td>None</td>\n",
       "    </tr>\n",
       "    <tr>\n",
       "      <th>884162670584377345</th>\n",
       "      <td>&lt;NA&gt;</td>\n",
       "      <td>&lt;NA&gt;</td>\n",
       "      <td>2017-07-09 21:29:42+00:00</td>\n",
       "      <td>&lt;a href=\"http://twitter.com/download/iphone\" rel=\"nofollow\"&gt;Twitter for iPhone&lt;/a&gt;</td>\n",
       "      <td>Meet Yogi. He doesn't have any important dog meetings today he just enjoys looking his best at all times. 12/10 for dangerously dapper doggo https://t.co/YSI00BzTBZ</td>\n",
       "      <td>&lt;NA&gt;</td>\n",
       "      <td>&lt;NA&gt;</td>\n",
       "      <td>NaT</td>\n",
       "      <td>https://twitter.com/dog_rates/status/884162670584377345/photo/1</td>\n",
       "      <td>12</td>\n",
       "      <td>10</td>\n",
       "      <td>Yogi</td>\n",
       "      <td>doggo</td>\n",
       "      <td>None</td>\n",
       "      <td>None</td>\n",
       "      <td>None</td>\n",
       "    </tr>\n",
       "  </tbody>\n",
       "</table>\n",
       "</div>"
      ],
      "text/plain": [
       "                    in_reply_to_status_id  in_reply_to_user_id  \\\n",
       "tweet_id                                                         \n",
       "890240255349198849                   <NA>                 <NA>   \n",
       "889665388333682689                   <NA>                 <NA>   \n",
       "889531135344209921                   <NA>                 <NA>   \n",
       "886366144734445568                   <NA>                 <NA>   \n",
       "884162670584377345                   <NA>                 <NA>   \n",
       "\n",
       "                                   timestamp  \\\n",
       "tweet_id                                       \n",
       "890240255349198849 2017-07-26 15:59:51+00:00   \n",
       "889665388333682689 2017-07-25 01:55:32+00:00   \n",
       "889531135344209921 2017-07-24 17:02:04+00:00   \n",
       "886366144734445568 2017-07-15 23:25:31+00:00   \n",
       "884162670584377345 2017-07-09 21:29:42+00:00   \n",
       "\n",
       "                                                                                                source  \\\n",
       "tweet_id                                                                                                 \n",
       "890240255349198849  <a href=\"http://twitter.com/download/iphone\" rel=\"nofollow\">Twitter for iPhone</a>   \n",
       "889665388333682689  <a href=\"http://twitter.com/download/iphone\" rel=\"nofollow\">Twitter for iPhone</a>   \n",
       "889531135344209921  <a href=\"http://twitter.com/download/iphone\" rel=\"nofollow\">Twitter for iPhone</a>   \n",
       "886366144734445568  <a href=\"http://twitter.com/download/iphone\" rel=\"nofollow\">Twitter for iPhone</a>   \n",
       "884162670584377345  <a href=\"http://twitter.com/download/iphone\" rel=\"nofollow\">Twitter for iPhone</a>   \n",
       "\n",
       "                                                                                                                                                                                    text  \\\n",
       "tweet_id                                                                                                                                                                                   \n",
       "890240255349198849         This is Cassie. She is a college pup. Studying international doggo communication and stick theory. 14/10 so elegant much sophisticate https://t.co/t1bfwz5S2A   \n",
       "889665388333682689                                    Here's a puppo that seems to be on the fence about something haha no but seriously someone help her. 13/10 https://t.co/BxvuXk0UCm   \n",
       "889531135344209921                        This is Stuart. He's sporting his favorite fanny pack. Secretly filled with bones only. 13/10 puppared puppo #BarkWeek https://t.co/y70o6h3isq   \n",
       "886366144734445568           This is Roscoe. Another pupper fallen victim to spontaneous tongue ejections. Get the BlepiPen immediate. 12/10 deep breaths Roscoe https://t.co/RGE08MIJox   \n",
       "884162670584377345  Meet Yogi. He doesn't have any important dog meetings today he just enjoys looking his best at all times. 12/10 for dangerously dapper doggo https://t.co/YSI00BzTBZ   \n",
       "\n",
       "                    retweeted_status_id  retweeted_status_user_id  \\\n",
       "tweet_id                                                            \n",
       "890240255349198849                 <NA>                      <NA>   \n",
       "889665388333682689                 <NA>                      <NA>   \n",
       "889531135344209921                 <NA>                      <NA>   \n",
       "886366144734445568                 <NA>                      <NA>   \n",
       "884162670584377345                 <NA>                      <NA>   \n",
       "\n",
       "                   retweeted_status_timestamp  \\\n",
       "tweet_id                                        \n",
       "890240255349198849                        NaT   \n",
       "889665388333682689                        NaT   \n",
       "889531135344209921                        NaT   \n",
       "886366144734445568                        NaT   \n",
       "884162670584377345                        NaT   \n",
       "\n",
       "                                                                                                                                      expanded_urls  \\\n",
       "tweet_id                                                                                                                                              \n",
       "890240255349198849                                                                  https://twitter.com/dog_rates/status/890240255349198849/photo/1   \n",
       "889665388333682689                                                                  https://twitter.com/dog_rates/status/889665388333682689/photo/1   \n",
       "889531135344209921                                                                  https://twitter.com/dog_rates/status/889531135344209921/photo/1   \n",
       "886366144734445568  https://twitter.com/dog_rates/status/886366144734445568/photo/1,https://twitter.com/dog_rates/status/886366144734445568/photo/1   \n",
       "884162670584377345                                                                  https://twitter.com/dog_rates/status/884162670584377345/photo/1   \n",
       "\n",
       "                    rating_numerator  rating_denominator    name  doggo  \\\n",
       "tweet_id                                                                  \n",
       "890240255349198849                14                  10  Cassie  doggo   \n",
       "889665388333682689                13                  10    None   None   \n",
       "889531135344209921                13                  10  Stuart   None   \n",
       "886366144734445568                12                  10  Roscoe   None   \n",
       "884162670584377345                12                  10    Yogi  doggo   \n",
       "\n",
       "                   floofer  pupper  puppo  \n",
       "tweet_id                                   \n",
       "890240255349198849    None    None   None  \n",
       "889665388333682689    None    None  puppo  \n",
       "889531135344209921    None    None  puppo  \n",
       "886366144734445568    None  pupper   None  \n",
       "884162670584377345    None    None   None  "
      ]
     },
     "execution_count": 25,
     "metadata": {},
     "output_type": "execute_result"
    }
   ],
   "source": [
    "enhanced_tweets_df[(enhanced_tweets_df[['doggo', 'floofer', 'pupper', 'puppo']] != 'None').any(axis=1)].head()"
   ]
  },
  {
   "cell_type": "markdown",
   "metadata": {},
   "source": [
    "We observe the following:\n",
    "\n",
    "1. HTML in the `source` columns, with a lot of repetition (to be verified programmatically)\n",
    "1. the varios rewteet columns frequently hold null values\n",
    "1. on occasions multiple values appearing in the `expanded_urls` column, including repeating values\n",
    "1. quite often no dog stage can be identified, and occasionally no dog name\n",
    "1. dog stages place the stage name in a column named after the stage, this is redundant information\n"
   ]
  },
  {
   "cell_type": "markdown",
   "metadata": {},
   "source": [
    "#### Retweet and favorite counts"
   ]
  },
  {
   "cell_type": "code",
   "execution_count": 26,
   "metadata": {},
   "outputs": [
    {
     "data": {
      "text/html": [
       "<div>\n",
       "<style scoped>\n",
       "    .dataframe tbody tr th:only-of-type {\n",
       "        vertical-align: middle;\n",
       "    }\n",
       "\n",
       "    .dataframe tbody tr th {\n",
       "        vertical-align: top;\n",
       "    }\n",
       "\n",
       "    .dataframe thead th {\n",
       "        text-align: right;\n",
       "    }\n",
       "</style>\n",
       "<table border=\"1\" class=\"dataframe\">\n",
       "  <thead>\n",
       "    <tr style=\"text-align: right;\">\n",
       "      <th></th>\n",
       "      <th>retweet_counts</th>\n",
       "      <th>favorite_counts</th>\n",
       "    </tr>\n",
       "    <tr>\n",
       "      <th>tweet_id</th>\n",
       "      <th></th>\n",
       "      <th></th>\n",
       "    </tr>\n",
       "  </thead>\n",
       "  <tbody>\n",
       "    <tr>\n",
       "      <th>666020888022790149</th>\n",
       "      <td>443</td>\n",
       "      <td>2344</td>\n",
       "    </tr>\n",
       "    <tr>\n",
       "      <th>666029285002620928</th>\n",
       "      <td>41</td>\n",
       "      <td>118</td>\n",
       "    </tr>\n",
       "    <tr>\n",
       "      <th>666033412701032449</th>\n",
       "      <td>39</td>\n",
       "      <td>107</td>\n",
       "    </tr>\n",
       "    <tr>\n",
       "      <th>666044226329800704</th>\n",
       "      <td>122</td>\n",
       "      <td>259</td>\n",
       "    </tr>\n",
       "    <tr>\n",
       "      <th>666049248165822465</th>\n",
       "      <td>38</td>\n",
       "      <td>93</td>\n",
       "    </tr>\n",
       "  </tbody>\n",
       "</table>\n",
       "</div>"
      ],
      "text/plain": [
       "                    retweet_counts  favorite_counts\n",
       "tweet_id                                           \n",
       "666020888022790149             443             2344\n",
       "666029285002620928              41              118\n",
       "666033412701032449              39              107\n",
       "666044226329800704             122              259\n",
       "666049248165822465              38               93"
      ]
     },
     "execution_count": 26,
     "metadata": {},
     "output_type": "execute_result"
    }
   ],
   "source": [
    "tweet_counts_df.head()"
   ]
  },
  {
   "cell_type": "markdown",
   "metadata": {},
   "source": [
    "There are no immediate issues observed by assessing a small sample of the tweet counts data visually."
   ]
  },
  {
   "cell_type": "markdown",
   "metadata": {},
   "source": [
    "#### Breed predictions"
   ]
  },
  {
   "cell_type": "code",
   "execution_count": 27,
   "metadata": {
    "scrolled": true
   },
   "outputs": [
    {
     "data": {
      "text/html": [
       "<div>\n",
       "<style scoped>\n",
       "    .dataframe tbody tr th:only-of-type {\n",
       "        vertical-align: middle;\n",
       "    }\n",
       "\n",
       "    .dataframe tbody tr th {\n",
       "        vertical-align: top;\n",
       "    }\n",
       "\n",
       "    .dataframe thead th {\n",
       "        text-align: right;\n",
       "    }\n",
       "</style>\n",
       "<table border=\"1\" class=\"dataframe\">\n",
       "  <thead>\n",
       "    <tr style=\"text-align: right;\">\n",
       "      <th></th>\n",
       "      <th>jpg_url</th>\n",
       "      <th>img_num</th>\n",
       "      <th>p1</th>\n",
       "      <th>p1_conf</th>\n",
       "      <th>p1_dog</th>\n",
       "      <th>p2</th>\n",
       "      <th>p2_conf</th>\n",
       "      <th>p2_dog</th>\n",
       "      <th>p3</th>\n",
       "      <th>p3_conf</th>\n",
       "      <th>p3_dog</th>\n",
       "    </tr>\n",
       "    <tr>\n",
       "      <th>tweet_id</th>\n",
       "      <th></th>\n",
       "      <th></th>\n",
       "      <th></th>\n",
       "      <th></th>\n",
       "      <th></th>\n",
       "      <th></th>\n",
       "      <th></th>\n",
       "      <th></th>\n",
       "      <th></th>\n",
       "      <th></th>\n",
       "      <th></th>\n",
       "    </tr>\n",
       "  </thead>\n",
       "  <tbody>\n",
       "    <tr>\n",
       "      <th>666020888022790149</th>\n",
       "      <td>https://pbs.twimg.com/media/CT4udn0WwAA0aMy.jpg</td>\n",
       "      <td>1</td>\n",
       "      <td>Welsh_springer_spaniel</td>\n",
       "      <td>0.465074</td>\n",
       "      <td>True</td>\n",
       "      <td>collie</td>\n",
       "      <td>0.156665</td>\n",
       "      <td>True</td>\n",
       "      <td>Shetland_sheepdog</td>\n",
       "      <td>0.061428</td>\n",
       "      <td>True</td>\n",
       "    </tr>\n",
       "    <tr>\n",
       "      <th>666029285002620928</th>\n",
       "      <td>https://pbs.twimg.com/media/CT42GRgUYAA5iDo.jpg</td>\n",
       "      <td>1</td>\n",
       "      <td>redbone</td>\n",
       "      <td>0.506826</td>\n",
       "      <td>True</td>\n",
       "      <td>miniature_pinscher</td>\n",
       "      <td>0.074192</td>\n",
       "      <td>True</td>\n",
       "      <td>Rhodesian_ridgeback</td>\n",
       "      <td>0.072010</td>\n",
       "      <td>True</td>\n",
       "    </tr>\n",
       "    <tr>\n",
       "      <th>666033412701032449</th>\n",
       "      <td>https://pbs.twimg.com/media/CT4521TWwAEvMyu.jpg</td>\n",
       "      <td>1</td>\n",
       "      <td>German_shepherd</td>\n",
       "      <td>0.596461</td>\n",
       "      <td>True</td>\n",
       "      <td>malinois</td>\n",
       "      <td>0.138584</td>\n",
       "      <td>True</td>\n",
       "      <td>bloodhound</td>\n",
       "      <td>0.116197</td>\n",
       "      <td>True</td>\n",
       "    </tr>\n",
       "    <tr>\n",
       "      <th>666044226329800704</th>\n",
       "      <td>https://pbs.twimg.com/media/CT5Dr8HUEAA-lEu.jpg</td>\n",
       "      <td>1</td>\n",
       "      <td>Rhodesian_ridgeback</td>\n",
       "      <td>0.408143</td>\n",
       "      <td>True</td>\n",
       "      <td>redbone</td>\n",
       "      <td>0.360687</td>\n",
       "      <td>True</td>\n",
       "      <td>miniature_pinscher</td>\n",
       "      <td>0.222752</td>\n",
       "      <td>True</td>\n",
       "    </tr>\n",
       "    <tr>\n",
       "      <th>666049248165822465</th>\n",
       "      <td>https://pbs.twimg.com/media/CT5IQmsXIAAKY4A.jpg</td>\n",
       "      <td>1</td>\n",
       "      <td>miniature_pinscher</td>\n",
       "      <td>0.560311</td>\n",
       "      <td>True</td>\n",
       "      <td>Rottweiler</td>\n",
       "      <td>0.243682</td>\n",
       "      <td>True</td>\n",
       "      <td>Doberman</td>\n",
       "      <td>0.154629</td>\n",
       "      <td>True</td>\n",
       "    </tr>\n",
       "  </tbody>\n",
       "</table>\n",
       "</div>"
      ],
      "text/plain": [
       "                                                            jpg_url  img_num  \\\n",
       "tweet_id                                                                       \n",
       "666020888022790149  https://pbs.twimg.com/media/CT4udn0WwAA0aMy.jpg        1   \n",
       "666029285002620928  https://pbs.twimg.com/media/CT42GRgUYAA5iDo.jpg        1   \n",
       "666033412701032449  https://pbs.twimg.com/media/CT4521TWwAEvMyu.jpg        1   \n",
       "666044226329800704  https://pbs.twimg.com/media/CT5Dr8HUEAA-lEu.jpg        1   \n",
       "666049248165822465  https://pbs.twimg.com/media/CT5IQmsXIAAKY4A.jpg        1   \n",
       "\n",
       "                                        p1   p1_conf  p1_dog  \\\n",
       "tweet_id                                                       \n",
       "666020888022790149  Welsh_springer_spaniel  0.465074    True   \n",
       "666029285002620928                 redbone  0.506826    True   \n",
       "666033412701032449         German_shepherd  0.596461    True   \n",
       "666044226329800704     Rhodesian_ridgeback  0.408143    True   \n",
       "666049248165822465      miniature_pinscher  0.560311    True   \n",
       "\n",
       "                                    p2   p2_conf  p2_dog                   p3  \\\n",
       "tweet_id                                                                        \n",
       "666020888022790149              collie  0.156665    True    Shetland_sheepdog   \n",
       "666029285002620928  miniature_pinscher  0.074192    True  Rhodesian_ridgeback   \n",
       "666033412701032449            malinois  0.138584    True           bloodhound   \n",
       "666044226329800704             redbone  0.360687    True   miniature_pinscher   \n",
       "666049248165822465          Rottweiler  0.243682    True             Doberman   \n",
       "\n",
       "                     p3_conf  p3_dog  \n",
       "tweet_id                              \n",
       "666020888022790149  0.061428    True  \n",
       "666029285002620928  0.072010    True  \n",
       "666033412701032449  0.116197    True  \n",
       "666044226329800704  0.222752    True  \n",
       "666049248165822465  0.154629    True  "
      ]
     },
     "execution_count": 27,
     "metadata": {},
     "output_type": "execute_result"
    }
   ],
   "source": [
    "img_preds_df.head()"
   ]
  },
  {
   "cell_type": "markdown",
   "metadata": {},
   "source": [
    "We observe the following: \n",
    "\n",
    "1. each row refers to an image\n",
    "1. each image is numbered, as it is selected as the best of up to 4 dog images that may be associated with each tweet\n",
    "1. we then have the top 3 breed predictions for that image\n",
    "\n",
    "Each prediction consists of the following information:\n",
    "\n",
    "1. a predicted label or class (e.g.: the dog breed) that describes the image\n",
    "1. a confidence score associated with the above prediction, in the range 0.0 -> 1.0 (0% to 100% confident)\n",
    "1. a boolean indicator confirming if the predicted label is a dog breed, or some other object\n",
    "\n",
    "Looking at the confidence score for predictions p1 - p3, they appear to be listed in most confident to least confident order. Therefore we will use the column name numeric suffix to generate a ranking column, which we can later sort by (to preserve this decreasing confidence order).\n",
    "\n",
    "This last attribute confirms that the image classifier used to generate these prediction was trained on a broad set of images, only a subset of which are dog images labelled with their corresponding dog breed. But on occasions the classifier may have interpreted a dog image as an object other than a dog."
   ]
  },
  {
   "cell_type": "markdown",
   "metadata": {},
   "source": [
    "### Programmatic assessment"
   ]
  },
  {
   "cell_type": "markdown",
   "metadata": {},
   "source": [
    "Programmatic assesment gives us the opportunity to validate observations, and search for anomalies, across the entire dataset. This is very difficult to do visually unless the dataset is small, both in trems of the number of rows and columns."
   ]
  },
  {
   "cell_type": "markdown",
   "metadata": {},
   "source": [
    "#### Enhanced tweets"
   ]
  },
  {
   "cell_type": "markdown",
   "metadata": {},
   "source": [
    "Assess level of repetition in the `source` column, which holds an HTML anchor node."
   ]
  },
  {
   "cell_type": "code",
   "execution_count": 28,
   "metadata": {},
   "outputs": [
    {
     "data": {
      "text/plain": [
       "<a href=\"http://twitter.com/download/iphone\" rel=\"nofollow\">Twitter for iPhone</a>     2221\n",
       "<a href=\"http://vine.co\" rel=\"nofollow\">Vine - Make a Scene</a>                          91\n",
       "<a href=\"http://twitter.com\" rel=\"nofollow\">Twitter Web Client</a>                       33\n",
       "<a href=\"https://about.twitter.com/products/tweetdeck\" rel=\"nofollow\">TweetDeck</a>      11\n",
       "Name: source, dtype: int64"
      ]
     },
     "execution_count": 28,
     "metadata": {},
     "output_type": "execute_result"
    }
   ],
   "source": [
    "enhanced_tweets_df['source'].value_counts()"
   ]
  },
  {
   "cell_type": "markdown",
   "metadata": {},
   "source": [
    "Looking at the above results there appear to be 4 sources corresponding to the related applications: iPhone Twitter app, Vine app, Twitter web client and TweetDeck. This data contains a lot of redundant and messy information."
   ]
  },
  {
   "cell_type": "markdown",
   "metadata": {},
   "source": [
    "Check if there are tweets where more than one dog stage is mentioned."
   ]
  },
  {
   "cell_type": "code",
   "execution_count": 29,
   "metadata": {},
   "outputs": [
    {
     "data": {
      "text/plain": [
       "14"
      ]
     },
     "execution_count": 29,
     "metadata": {},
     "output_type": "execute_result"
    }
   ],
   "source": [
    "((enhanced_tweets_df[['doggo', 'floofer', 'pupper', 'puppo']] != 'None').sum(axis=1) > 1).sum()"
   ]
  },
  {
   "cell_type": "markdown",
   "metadata": {},
   "source": [
    "#### Retweet and favorite counts"
   ]
  },
  {
   "cell_type": "markdown",
   "metadata": {},
   "source": [
    "We will quickly validate that all counts are positive."
   ]
  },
  {
   "cell_type": "code",
   "execution_count": 30,
   "metadata": {},
   "outputs": [
    {
     "data": {
      "text/plain": [
       "retweet_counts     True\n",
       "favorite_counts    True\n",
       "dtype: bool"
      ]
     },
     "execution_count": 30,
     "metadata": {},
     "output_type": "execute_result"
    }
   ],
   "source": [
    "(tweet_counts_df >= 0).all()"
   ]
  },
  {
   "cell_type": "markdown",
   "metadata": {},
   "source": [
    "We will compare the number of entries in the enriched tweets dataframe to the number of entries in the tweet counts dataframe, to see of we successfully retrieved counts for all tweets from the API. The small difference in counts suggests a small number of tweets can no longer be retrieved."
   ]
  },
  {
   "cell_type": "code",
   "execution_count": 31,
   "metadata": {},
   "outputs": [
    {
     "data": {
      "text/plain": [
       "(2356, 2331)"
      ]
     },
     "execution_count": 31,
     "metadata": {},
     "output_type": "execute_result"
    }
   ],
   "source": [
    "len(enhanced_tweets_df.index), len(tweet_counts_df.index)"
   ]
  },
  {
   "cell_type": "markdown",
   "metadata": {},
   "source": [
    "#### Breed predictions"
   ]
  },
  {
   "cell_type": "markdown",
   "metadata": {},
   "source": [
    "We will validate the assumption made earlier that the confidence scores are ordered by the numeric suffix of the column name, which can be used to populate a ranking."
   ]
  },
  {
   "cell_type": "code",
   "execution_count": 32,
   "metadata": {},
   "outputs": [
    {
     "data": {
      "text/plain": [
       "True"
      ]
     },
     "execution_count": 32,
     "metadata": {},
     "output_type": "execute_result"
    }
   ],
   "source": [
    "((img_preds_df['p1_conf'] > img_preds_df['p2_conf']) & (img_preds_df['p2_conf'] > img_preds_df['p3_conf'])).all()"
   ]
  },
  {
   "cell_type": "markdown",
   "metadata": {},
   "source": [
    "Next we validate that all confidence scores are in the range 0.0 to 1.0."
   ]
  },
  {
   "cell_type": "code",
   "execution_count": 33,
   "metadata": {},
   "outputs": [
    {
     "data": {
      "text/plain": [
       "True"
      ]
     },
     "execution_count": 33,
     "metadata": {},
     "output_type": "execute_result"
    }
   ],
   "source": [
    "(img_preds_df['p1_conf'].between(0.0, 1.0) & \n",
    "img_preds_df['p2_conf'].between(0.0, 1.0) & \n",
    "img_preds_df['p3_conf'].between(0.0, 1.0)).all()"
   ]
  },
  {
   "cell_type": "markdown",
   "metadata": {},
   "source": [
    "### Quality issues found"
   ]
  },
  {
   "cell_type": "markdown",
   "metadata": {},
   "source": [
    "As a result of the visual and programmatic assessments, the following data quality have been found, which will require data content to be cleaned."
   ]
  },
  {
   "cell_type": "markdown",
   "metadata": {},
   "source": [
    "#### Enhanced tweets"
   ]
  },
  {
   "cell_type": "markdown",
   "metadata": {},
   "source": [
    "1. the immediate data quality concern is that the project motivation document states that the \"archive contains basic tweet data for all 5000+ of their tweets\" but we are loading less than half that number of tweets. **However, given the enhanced tweets dataset is our master dataset, there is nothing that we can do to remedy the much smaller number of rows, beyond highlighting this observation**\n",
    "1. as previously mentioned, the issue with some tweet Id columns being treated as floating point numbers, and the fact that rounding could invalidate these, was resolved at data loading time (without impacting the fact that they are nullable columns)\n",
    "1. the format of the `timestamp` is very close to an ISO 8601 timestamp, however it is missing the 't' character as the separator between the date and time portions. There are definite advantages in following a recognised standard, as this will be understood by tools such as database import utilities, however Pandas has correctly parsed dates\n",
    "1. in the `source` column, extract the source app name from the HTML anchor string, and then map this column to a Pandas categorical\n",
    "1. it is unclear why, in the `expanded_urls` columns, the same URL get repeated, since looking at the tweet text there is only one reference to the corresponding link. Therefore we will remove duplicates\n",
    "1. convert the dog stage columns into boolean datatype, and interpret the constant value 'None' as a missing stage\n",
    "1. since the dog stage column names are the stages, storing that same name as a value is redundant information, following on from the previous observation, where the dog stage appears we will just store a boolean true value"
   ]
  },
  {
   "cell_type": "markdown",
   "metadata": {},
   "source": [
    "#### Retweet and favorite counts"
   ]
  },
  {
   "cell_type": "markdown",
   "metadata": {},
   "source": [
    "1. while the intention is to obtain retweet and favorite counts for all the tweets in the enhanced tweets dataset, we cannot guarantee that the Twitter API will always return the original Tweet, e.g.: it may subsequently have been deleted\n",
    "1. where the counts were successfully retrieved for the original tweet (the majority of cases, as proven in the programatic assesment), then there is a one-to-one relationship between the rows in the counts dataframe, and the rows in the enhanced tweets dataframe. Therefore the counts columns can be merged back into the enhanced tweets dataframe, as arguably they are part of that tweet observation. In the few cases where the counts are missing, we will store nulls"
   ]
  },
  {
   "cell_type": "markdown",
   "metadata": {},
   "source": [
    "#### Breed predictions"
   ]
  },
  {
   "cell_type": "markdown",
   "metadata": {},
   "source": [
    "No obvious data quality issues, beyond the prediction column names being used as variables (the numeric suffix added). "
   ]
  },
  {
   "cell_type": "markdown",
   "metadata": {},
   "source": [
    "### Structural issues"
   ]
  },
  {
   "cell_type": "markdown",
   "metadata": {},
   "source": [
    "After looking at data frame structure, column naming, and inspecting values, and then applying the [Tidy Data](https://vita.had.co.nz/papers/tidy-data.pdf) principles, the following structural issues will need to be addressed."
   ]
  },
  {
   "cell_type": "markdown",
   "metadata": {},
   "source": [
    "#### Enhanced tweets"
   ]
  },
  {
   "cell_type": "markdown",
   "metadata": {},
   "source": [
    "1. the `source` column must store a category that represent the application (and possibly device) used to author the tweet\n",
    "1. the `expanded_urls` column can store multiple values per row, depending on the web links embeded in the tweet text, therefore these observations need to be stored in a separate table (however, we will first remove any duplicate values).\n",
    "1. dog stage is a multivalued categorical variable, as a tweet can reference more than one stage. Therefore we retain the existing columns but encode them in the style of one hot encoding"
   ]
  },
  {
   "cell_type": "markdown",
   "metadata": {},
   "source": [
    "#### Retweet and favorite counts"
   ]
  },
  {
   "cell_type": "markdown",
   "metadata": {},
   "source": [
    "No obvious structural issues here."
   ]
  },
  {
   "cell_type": "markdown",
   "metadata": {},
   "source": [
    "#### Breed predictions"
   ]
  },
  {
   "cell_type": "markdown",
   "metadata": {},
   "source": [
    "1. a variable (prediction number) is embeded in the column names of the prediction columns (predicted breed, prediction confidence, and is-a-dog flag)\n",
    "2. the prediction number ranks the predictions in the order most confident (1st prediction) to least confident (3rd prediction)\n",
    "3. the actual breed predictions should be held in a separate dataframe, and linked back to the tweet and tweet image they are associated with"
   ]
  },
  {
   "cell_type": "markdown",
   "metadata": {},
   "source": [
    "---\n",
    "---\n",
    "\n",
    "## Clean"
   ]
  },
  {
   "cell_type": "markdown",
   "metadata": {},
   "source": [
    "We will now clean the issues uncovered during assesment using a _define/code/test_ framework, which will be applied to each of the issues."
   ]
  },
  {
   "cell_type": "code",
   "execution_count": 34,
   "metadata": {},
   "outputs": [
    {
     "data": {
      "text/plain": [
       "(2356, 16)"
      ]
     },
     "execution_count": 34,
     "metadata": {},
     "output_type": "execute_result"
    }
   ],
   "source": [
    "clean_enhanced_tweets_df = enhanced_tweets_df.copy()\n",
    "clean_enhanced_tweets_df.shape"
   ]
  },
  {
   "cell_type": "markdown",
   "metadata": {},
   "source": [
    "---\n",
    "\n",
    "### Extract tweet application from `source` column"
   ]
  },
  {
   "cell_type": "markdown",
   "metadata": {},
   "source": [
    "**Define**\n",
    "\n",
    "* parse source column which holds an HTML anchor node \n",
    "* extract anchor node content, describing the application used\n",
    "* convert the column to Pandas categorical, as a more efficient representation that can be used in models"
   ]
  },
  {
   "cell_type": "markdown",
   "metadata": {},
   "source": [
    "**Code**"
   ]
  },
  {
   "cell_type": "code",
   "execution_count": 35,
   "metadata": {},
   "outputs": [],
   "source": [
    "# Extract content from anchor node\n",
    "\n",
    "clean_enhanced_tweets_df['source'] = \\\n",
    "    clean_enhanced_tweets_df['source'].str.extract(r'[^<]*a href=\"[^\"]+\" rel=\"[^\"]+\">([^<]+)<\\/a>')\n",
    "\n",
    "# Convert column to categorical\n",
    "\n",
    "clean_enhanced_tweets_df['source'] = clean_enhanced_tweets_df['source'].astype('category')"
   ]
  },
  {
   "cell_type": "markdown",
   "metadata": {},
   "source": [
    "**Test**"
   ]
  },
  {
   "cell_type": "markdown",
   "metadata": {},
   "source": [
    "We will check that the tweet source column is now a categorical, and the number of categories is that expected."
   ]
  },
  {
   "cell_type": "code",
   "execution_count": 36,
   "metadata": {},
   "outputs": [],
   "source": [
    "# Assert column data type is categorical\n",
    "\n",
    "assert isinstance(clean_enhanced_tweets_df['source'].dtype, pd.CategoricalDtype),'Expect categorical'\n",
    "\n",
    "# Assert the number of categories is as expected\n",
    "\n",
    "assert len(clean_enhanced_tweets_df['source'].cat.categories) == 4, 'Expect 4 application categories'"
   ]
  },
  {
   "cell_type": "markdown",
   "metadata": {},
   "source": [
    "---\n",
    "\n",
    "### Move `expanded_urls` to a detail dataframe"
   ]
  },
  {
   "cell_type": "markdown",
   "metadata": {},
   "source": [
    "**Define**\n",
    "\n",
    "* split multi-valued string of comma separated URLs, into URL arrays\n",
    "* remove any duplicate URLs from the array\n",
    "* convert each array into list of tuples, bound to the containing `tweet_id`\n",
    "* stores these tuples as rows in a new dataframe"
   ]
  },
  {
   "cell_type": "markdown",
   "metadata": {},
   "source": [
    "**Code**"
   ]
  },
  {
   "cell_type": "code",
   "execution_count": 37,
   "metadata": {},
   "outputs": [],
   "source": [
    "# Pull out rows containing one or more expanded URLs, as some rows have none\n",
    "\n",
    "expanded_urls_col = \\\n",
    "    clean_enhanced_tweets_df.loc[clean_enhanced_tweets_df['expanded_urls'].isna() == False]['expanded_urls']\n",
    "\n",
    "# Nested list comprehension to split multiple URL strings on comma separator, then create [tweet Id, URL] tuples\n",
    "\n",
    "expanded_url_tuples = [(ix, url) for ix, urls in expanded_urls_col.iteritems() for url in urls.split(',')]\n",
    "expanded_url_df = pd.DataFrame(expanded_url_tuples, columns=['tweet_id', 'expanded_url'])\n",
    "\n",
    "# Now drop duplicates and make 'tweet_id' the index for consistency with other dataframes\n",
    "\n",
    "expanded_url_df = expanded_url_df.drop_duplicates().set_index('tweet_id')\n",
    "\n",
    "# Finally drop the original expanded_urls column\n",
    "\n",
    "clean_enhanced_tweets_df = clean_enhanced_tweets_df.drop(columns='expanded_urls')"
   ]
  },
  {
   "cell_type": "markdown",
   "metadata": {},
   "source": [
    "**Test**"
   ]
  },
  {
   "cell_type": "markdown",
   "metadata": {},
   "source": [
    "We will count total and unique tweet Ids in the new dataframe holding expanded URLs. The later will be lower, accounting for multiple rows (hence web links in the tweet text) associated with the same tweet."
   ]
  },
  {
   "cell_type": "code",
   "execution_count": 38,
   "metadata": {},
   "outputs": [
    {
     "data": {
      "text/plain": [
       "(2338, 2297)"
      ]
     },
     "execution_count": 38,
     "metadata": {},
     "output_type": "execute_result"
    }
   ],
   "source": [
    "# Note that the index can contain duplicate entries (whenever a tweet has more than one URL)\n",
    "# We compare duplicate and non-duplicate counts below\n",
    "\n",
    "len(expanded_url_df.index), len(expanded_url_df.index.unique())"
   ]
  },
  {
   "cell_type": "markdown",
   "metadata": {},
   "source": [
    "---\n",
    "\n",
    "### Convert dog stage columns to boolean"
   ]
  },
  {
   "cell_type": "markdown",
   "metadata": {},
   "source": [
    "**Define**\n",
    "\n",
    "* where the value 'None' is stored, set False, otherwise set True"
   ]
  },
  {
   "cell_type": "markdown",
   "metadata": {},
   "source": [
    "**Code**"
   ]
  },
  {
   "cell_type": "code",
   "execution_count": 39,
   "metadata": {},
   "outputs": [],
   "source": [
    "# Convert dog stage columns into a boolean data type\n",
    "\n",
    "stage_cols = ['doggo', 'floofer', 'pupper', 'puppo']\n",
    "clean_enhanced_tweets_df[stage_cols] = clean_enhanced_tweets_df[stage_cols].apply(lambda c: c.to_numpy() != 'None')"
   ]
  },
  {
   "cell_type": "markdown",
   "metadata": {},
   "source": [
    "**Test**"
   ]
  },
  {
   "cell_type": "markdown",
   "metadata": {},
   "source": [
    "We will check that the dog stage columns are now boolean type."
   ]
  },
  {
   "cell_type": "code",
   "execution_count": 40,
   "metadata": {},
   "outputs": [
    {
     "name": "stdout",
     "output_type": "stream",
     "text": [
      "<class 'pandas.core.frame.DataFrame'>\n",
      "Int64Index: 2356 entries, 892420643555336193 to 666020888022790149\n",
      "Data columns (total 15 columns):\n",
      " #   Column                      Non-Null Count  Dtype              \n",
      "---  ------                      --------------  -----              \n",
      " 0   in_reply_to_status_id       78 non-null     Int64              \n",
      " 1   in_reply_to_user_id         78 non-null     Int64              \n",
      " 2   timestamp                   2356 non-null   datetime64[ns, UTC]\n",
      " 3   source                      2356 non-null   category           \n",
      " 4   text                        2356 non-null   string             \n",
      " 5   retweeted_status_id         181 non-null    Int64              \n",
      " 6   retweeted_status_user_id    181 non-null    Int64              \n",
      " 7   retweeted_status_timestamp  181 non-null    datetime64[ns, UTC]\n",
      " 8   rating_numerator            2356 non-null   int32              \n",
      " 9   rating_denominator          2356 non-null   int32              \n",
      " 10  name                        2356 non-null   string             \n",
      " 11  doggo                       2356 non-null   bool               \n",
      " 12  floofer                     2356 non-null   bool               \n",
      " 13  pupper                      2356 non-null   bool               \n",
      " 14  puppo                       2356 non-null   bool               \n",
      "dtypes: Int64(4), bool(4), category(1), datetime64[ns, UTC](2), int32(2), string(2)\n",
      "memory usage: 205.0 KB\n"
     ]
    }
   ],
   "source": [
    "clean_enhanced_tweets_df.info()"
   ]
  },
  {
   "cell_type": "code",
   "execution_count": 41,
   "metadata": {},
   "outputs": [],
   "source": [
    "for col in stage_cols:\n",
    "    assert clean_enhanced_tweets_df[col].dtype == 'bool', 'Expect boolean column'"
   ]
  },
  {
   "cell_type": "markdown",
   "metadata": {},
   "source": [
    "---\n",
    "\n",
    "### Merge retweet and favorite counts into enhanced tweets dataframe"
   ]
  },
  {
   "cell_type": "markdown",
   "metadata": {},
   "source": [
    "**Define**\n",
    "\n",
    "* merge retweet and favorite count columns into enhanced tweets dataframe, using a left join with nulls for missing count values"
   ]
  },
  {
   "cell_type": "markdown",
   "metadata": {},
   "source": [
    "**Code**"
   ]
  },
  {
   "cell_type": "code",
   "execution_count": 42,
   "metadata": {},
   "outputs": [],
   "source": [
    "clean_enhanced_tweets_df = clean_enhanced_tweets_df.merge(tweet_counts_df, how='left', on='tweet_id')"
   ]
  },
  {
   "cell_type": "markdown",
   "metadata": {},
   "source": [
    "**Test**"
   ]
  },
  {
   "cell_type": "markdown",
   "metadata": {},
   "source": [
    "Validate number of rows after merge, including count of rows with null retweet or favorite"
   ]
  },
  {
   "cell_type": "code",
   "execution_count": 43,
   "metadata": {},
   "outputs": [
    {
     "name": "stdout",
     "output_type": "stream",
     "text": [
      "2356\n"
     ]
    },
    {
     "data": {
      "text/plain": [
       "retweet_counts     25\n",
       "favorite_counts    25\n",
       "dtype: int64"
      ]
     },
     "execution_count": 43,
     "metadata": {},
     "output_type": "execute_result"
    }
   ],
   "source": [
    "# Count total rows (should be unchanged), and null retweet and favorite counts (tweets no longer available)\n",
    "\n",
    "print(len(clean_enhanced_tweets_df.index))\n",
    "clean_enhanced_tweets_df[['retweet_counts', 'favorite_counts']].isna().sum()"
   ]
  },
  {
   "cell_type": "markdown",
   "metadata": {},
   "source": [
    "---\n",
    "\n",
    "### Melt image prediction column headers into detail dataframe"
   ]
  },
  {
   "cell_type": "markdown",
   "metadata": {},
   "source": [
    "**Define**\n",
    "\n",
    "* store `jpg_url` and `img_num` columns in a clean dataframe\n",
    "* melt prediction 1 to 3 columns into temporary dataframes, with the prediction rank as a constant value, and the related `tweet_id`\n",
    "* stack the above temporary dataframes into a predictions dataframe, with repeated `tweet_id` as the index"
   ]
  },
  {
   "cell_type": "markdown",
   "metadata": {},
   "source": [
    "**Code**"
   ]
  },
  {
   "cell_type": "code",
   "execution_count": 44,
   "metadata": {},
   "outputs": [
    {
     "data": {
      "text/plain": [
       "(2075, 11)"
      ]
     },
     "execution_count": 44,
     "metadata": {},
     "output_type": "execute_result"
    }
   ],
   "source": [
    "clean_img_preds_df = img_preds_df.copy()\n",
    "clean_img_preds_df.shape"
   ]
  },
  {
   "cell_type": "code",
   "execution_count": 45,
   "metadata": {},
   "outputs": [],
   "source": [
    "def melt_pred_cols(df, numeric):\n",
    "    preds_df = pd.DataFrame(data={'pred_rank':       numeric,\n",
    "                                  'pred_class':      df[f'p{numeric}'],\n",
    "                                  'pred_confidence': df[f'p{numeric}_conf'],\n",
    "                                  'pred_is_dog':     df[f'p{numeric}_dog']})\n",
    "    return preds_df"
   ]
  },
  {
   "cell_type": "code",
   "execution_count": 46,
   "metadata": {},
   "outputs": [],
   "source": [
    "preds1_df = melt_pred_cols(clean_img_preds_df, 1)\n",
    "preds2_df = melt_pred_cols(clean_img_preds_df, 2)\n",
    "preds3_df = melt_pred_cols(clean_img_preds_df, 3)\n",
    "\n",
    "clean_predictions_df = pd.concat([preds1_df, \n",
    "                                  preds2_df, \n",
    "                                  preds3_df]).sort_values(by=['tweet_id', 'pred_rank'])"
   ]
  },
  {
   "cell_type": "code",
   "execution_count": 47,
   "metadata": {},
   "outputs": [],
   "source": [
    "# Drop melted prediction columns\n",
    "\n",
    "clean_img_preds_df = clean_img_preds_df.drop(columns=['p1', 'p1_conf', 'p1_dog', \\\n",
    "                                                      'p2', 'p2_conf', 'p2_dog', \\\n",
    "                                                      'p3', 'p3_conf', 'p3_dog'])"
   ]
  },
  {
   "cell_type": "markdown",
   "metadata": {},
   "source": [
    "**Test**"
   ]
  },
  {
   "cell_type": "markdown",
   "metadata": {},
   "source": [
    "Validate dataframe column names and structure as expected."
   ]
  },
  {
   "cell_type": "code",
   "execution_count": 48,
   "metadata": {},
   "outputs": [
    {
     "name": "stdout",
     "output_type": "stream",
     "text": [
      "<class 'pandas.core.frame.DataFrame'>\n",
      "Index: 2075 entries, 666020888022790149 to 892420643555336193\n",
      "Data columns (total 2 columns):\n",
      " #   Column   Non-Null Count  Dtype \n",
      "---  ------   --------------  ----- \n",
      " 0   jpg_url  2075 non-null   string\n",
      " 1   img_num  2075 non-null   int32 \n",
      "dtypes: int32(1), string(1)\n",
      "memory usage: 40.5+ KB\n"
     ]
    }
   ],
   "source": [
    "clean_img_preds_df.info()"
   ]
  },
  {
   "cell_type": "code",
   "execution_count": 49,
   "metadata": {},
   "outputs": [
    {
     "name": "stdout",
     "output_type": "stream",
     "text": [
      "<class 'pandas.core.frame.DataFrame'>\n",
      "Int64Index: 6225 entries, 666020888022790149 to 892420643555336193\n",
      "Data columns (total 4 columns):\n",
      " #   Column           Non-Null Count  Dtype  \n",
      "---  ------           --------------  -----  \n",
      " 0   pred_rank        6225 non-null   int64  \n",
      " 1   pred_class       6225 non-null   string \n",
      " 2   pred_confidence  6225 non-null   float32\n",
      " 3   pred_is_dog      6225 non-null   bool   \n",
      "dtypes: bool(1), float32(1), int64(1), string(1)\n",
      "memory usage: 176.3 KB\n"
     ]
    }
   ],
   "source": [
    "clean_predictions_df.info()"
   ]
  },
  {
   "cell_type": "code",
   "execution_count": 50,
   "metadata": {},
   "outputs": [],
   "source": [
    "# Validate master/detail row counts\n",
    "\n",
    "assert len(clean_img_preds_df.index) == (len(clean_predictions_df.index) / 3), 'Expect 3x number of detail rows'"
   ]
  },
  {
   "cell_type": "markdown",
   "metadata": {},
   "source": [
    "---\n",
    "---\n",
    "\n",
    "## Analyse"
   ]
  },
  {
   "cell_type": "markdown",
   "metadata": {},
   "source": [
    "In this section we look at the data and analyse it to obtain some insights. Specifically, we are interested in:\n",
    "\n",
    "1. Finding the number of tweets with a score above 10/10, versus tweets with a score under 10/10\n",
    "2. Identify the tweets where more than one dog stage appears\n",
    "3. Finding the number of top breed predictions from the image classifier, with a predictionconfidence below 0.5"
   ]
  },
  {
   "cell_type": "markdown",
   "metadata": {},
   "source": [
    "**Count number of scores above and below 10/10**"
   ]
  },
  {
   "cell_type": "code",
   "execution_count": 51,
   "metadata": {},
   "outputs": [
    {
     "data": {
      "text/plain": [
       "(1451, 905)"
      ]
     },
     "execution_count": 51,
     "metadata": {},
     "output_type": "execute_result"
    }
   ],
   "source": [
    "((clean_enhanced_tweets_df['rating_numerator'] / clean_enhanced_tweets_df['rating_denominator']) > 1.0).sum(), \\\n",
    "((clean_enhanced_tweets_df['rating_numerator'] / clean_enhanced_tweets_df['rating_denominator']) <= 1.0).sum()"
   ]
  },
  {
   "cell_type": "markdown",
   "metadata": {},
   "source": [
    "**Show tweets with more than one dog stage in the tweet text**"
   ]
  },
  {
   "cell_type": "code",
   "execution_count": 52,
   "metadata": {},
   "outputs": [
    {
     "data": {
      "text/html": [
       "<div>\n",
       "<style scoped>\n",
       "    .dataframe tbody tr th:only-of-type {\n",
       "        vertical-align: middle;\n",
       "    }\n",
       "\n",
       "    .dataframe tbody tr th {\n",
       "        vertical-align: top;\n",
       "    }\n",
       "\n",
       "    .dataframe thead th {\n",
       "        text-align: right;\n",
       "    }\n",
       "</style>\n",
       "<table border=\"1\" class=\"dataframe\">\n",
       "  <thead>\n",
       "    <tr style=\"text-align: right;\">\n",
       "      <th></th>\n",
       "      <th>text</th>\n",
       "      <th>doggo</th>\n",
       "      <th>floofer</th>\n",
       "      <th>pupper</th>\n",
       "      <th>puppo</th>\n",
       "    </tr>\n",
       "    <tr>\n",
       "      <th>tweet_id</th>\n",
       "      <th></th>\n",
       "      <th></th>\n",
       "      <th></th>\n",
       "      <th></th>\n",
       "      <th></th>\n",
       "    </tr>\n",
       "  </thead>\n",
       "  <tbody>\n",
       "    <tr>\n",
       "      <th>855851453814013952</th>\n",
       "      <td>Here's a puppo participating in the #ScienceMarch. Cleverly disguising her own doggo agenda. 13/10 would keep the planet habitable for https://t.co/cMhq16isel</td>\n",
       "      <td>True</td>\n",
       "      <td>False</td>\n",
       "      <td>False</td>\n",
       "      <td>True</td>\n",
       "    </tr>\n",
       "    <tr>\n",
       "      <th>854010172552949760</th>\n",
       "      <td>At first I thought this was a shy doggo, but it's actually a Rare Canadian Floofer Owl. Amateurs would confuse the two. 11/10 only send dogs https://t.co/TXdT3tmuYk</td>\n",
       "      <td>True</td>\n",
       "      <td>True</td>\n",
       "      <td>False</td>\n",
       "      <td>False</td>\n",
       "    </tr>\n",
       "    <tr>\n",
       "      <th>817777686764523521</th>\n",
       "      <td>This is Dido. She's playing the lead role in \"Pupper Stops to Catch Snow Before Resuming Shadow Box with Dried Apple.\" 13/10 (IG: didodoggo) https://t.co/m7isZrOBX7</td>\n",
       "      <td>True</td>\n",
       "      <td>False</td>\n",
       "      <td>True</td>\n",
       "      <td>False</td>\n",
       "    </tr>\n",
       "    <tr>\n",
       "      <th>808106460588765185</th>\n",
       "      <td>Here we have Burke (pupper) and Dexter (doggo). Pupper wants to be exactly like doggo. Both 12/10 would pet at same time https://t.co/ANBpEYHaho</td>\n",
       "      <td>True</td>\n",
       "      <td>False</td>\n",
       "      <td>True</td>\n",
       "      <td>False</td>\n",
       "    </tr>\n",
       "    <tr>\n",
       "      <th>802265048156610565</th>\n",
       "      <td>Like doggo, like pupper version 2. Both 11/10 https://t.co/9IxWAXFqze</td>\n",
       "      <td>True</td>\n",
       "      <td>False</td>\n",
       "      <td>True</td>\n",
       "      <td>False</td>\n",
       "    </tr>\n",
       "    <tr>\n",
       "      <th>801115127852503040</th>\n",
       "      <td>This is Bones. He's being haunted by another doggo of roughly the same size. 12/10 deep breaths pupper everything's fine https://t.co/55Dqe0SJNj</td>\n",
       "      <td>True</td>\n",
       "      <td>False</td>\n",
       "      <td>True</td>\n",
       "      <td>False</td>\n",
       "    </tr>\n",
       "    <tr>\n",
       "      <th>785639753186217984</th>\n",
       "      <td>This is Pinot. He's a sophisticated doggo. You can tell by the hat. Also pointier than your average pupper. Still 10/10 would pet cautiously https://t.co/f2wmLZTPHd</td>\n",
       "      <td>True</td>\n",
       "      <td>False</td>\n",
       "      <td>True</td>\n",
       "      <td>False</td>\n",
       "    </tr>\n",
       "    <tr>\n",
       "      <th>781308096455073793</th>\n",
       "      <td>Pupper butt 1, Doggo 0. Both 12/10 https://t.co/WQvcPEpH2u</td>\n",
       "      <td>True</td>\n",
       "      <td>False</td>\n",
       "      <td>True</td>\n",
       "      <td>False</td>\n",
       "    </tr>\n",
       "    <tr>\n",
       "      <th>775898661951791106</th>\n",
       "      <td>RT @dog_rates: Like father (doggo), like son (pupper). Both 12/10 https://t.co/pG2inLaOda</td>\n",
       "      <td>True</td>\n",
       "      <td>False</td>\n",
       "      <td>True</td>\n",
       "      <td>False</td>\n",
       "    </tr>\n",
       "    <tr>\n",
       "      <th>770093767776997377</th>\n",
       "      <td>RT @dog_rates: This is just downright precious af. 12/10 for both pupper and doggo https://t.co/o5J479bZUC</td>\n",
       "      <td>True</td>\n",
       "      <td>False</td>\n",
       "      <td>True</td>\n",
       "      <td>False</td>\n",
       "    </tr>\n",
       "    <tr>\n",
       "      <th>759793422261743616</th>\n",
       "      <td>Meet Maggie &amp;amp; Lila. Maggie is the doggo, Lila is the pupper. They are sisters. Both 12/10 would pet at the same time https://t.co/MYwR4DQKll</td>\n",
       "      <td>True</td>\n",
       "      <td>False</td>\n",
       "      <td>True</td>\n",
       "      <td>False</td>\n",
       "    </tr>\n",
       "    <tr>\n",
       "      <th>751583847268179968</th>\n",
       "      <td>Please stop sending it pictures that don't even have a doggo or pupper in them. Churlish af. 5/10 neat couch tho https://t.co/u2c9c7qSg8</td>\n",
       "      <td>True</td>\n",
       "      <td>False</td>\n",
       "      <td>True</td>\n",
       "      <td>False</td>\n",
       "    </tr>\n",
       "    <tr>\n",
       "      <th>741067306818797568</th>\n",
       "      <td>This is just downright precious af. 12/10 for both pupper and doggo https://t.co/o5J479bZUC</td>\n",
       "      <td>True</td>\n",
       "      <td>False</td>\n",
       "      <td>True</td>\n",
       "      <td>False</td>\n",
       "    </tr>\n",
       "    <tr>\n",
       "      <th>733109485275860992</th>\n",
       "      <td>Like father (doggo), like son (pupper). Both 12/10 https://t.co/pG2inLaOda</td>\n",
       "      <td>True</td>\n",
       "      <td>False</td>\n",
       "      <td>True</td>\n",
       "      <td>False</td>\n",
       "    </tr>\n",
       "  </tbody>\n",
       "</table>\n",
       "</div>"
      ],
      "text/plain": [
       "                                                                                                                                                                                    text  \\\n",
       "tweet_id                                                                                                                                                                                   \n",
       "855851453814013952        Here's a puppo participating in the #ScienceMarch. Cleverly disguising her own doggo agenda. 13/10 would keep the planet habitable for https://t.co/cMhq16isel   \n",
       "854010172552949760  At first I thought this was a shy doggo, but it's actually a Rare Canadian Floofer Owl. Amateurs would confuse the two. 11/10 only send dogs https://t.co/TXdT3tmuYk   \n",
       "817777686764523521  This is Dido. She's playing the lead role in \"Pupper Stops to Catch Snow Before Resuming Shadow Box with Dried Apple.\" 13/10 (IG: didodoggo) https://t.co/m7isZrOBX7   \n",
       "808106460588765185                      Here we have Burke (pupper) and Dexter (doggo). Pupper wants to be exactly like doggo. Both 12/10 would pet at same time https://t.co/ANBpEYHaho   \n",
       "802265048156610565                                                                                                 Like doggo, like pupper version 2. Both 11/10 https://t.co/9IxWAXFqze   \n",
       "801115127852503040                      This is Bones. He's being haunted by another doggo of roughly the same size. 12/10 deep breaths pupper everything's fine https://t.co/55Dqe0SJNj   \n",
       "785639753186217984  This is Pinot. He's a sophisticated doggo. You can tell by the hat. Also pointier than your average pupper. Still 10/10 would pet cautiously https://t.co/f2wmLZTPHd   \n",
       "781308096455073793                                                                                                            Pupper butt 1, Doggo 0. Both 12/10 https://t.co/WQvcPEpH2u   \n",
       "775898661951791106                                                                             RT @dog_rates: Like father (doggo), like son (pupper). Both 12/10 https://t.co/pG2inLaOda   \n",
       "770093767776997377                                                            RT @dog_rates: This is just downright precious af. 12/10 for both pupper and doggo https://t.co/o5J479bZUC   \n",
       "759793422261743616                      Meet Maggie &amp; Lila. Maggie is the doggo, Lila is the pupper. They are sisters. Both 12/10 would pet at the same time https://t.co/MYwR4DQKll   \n",
       "751583847268179968                              Please stop sending it pictures that don't even have a doggo or pupper in them. Churlish af. 5/10 neat couch tho https://t.co/u2c9c7qSg8   \n",
       "741067306818797568                                                                           This is just downright precious af. 12/10 for both pupper and doggo https://t.co/o5J479bZUC   \n",
       "733109485275860992                                                                                            Like father (doggo), like son (pupper). Both 12/10 https://t.co/pG2inLaOda   \n",
       "\n",
       "                    doggo  floofer  pupper  puppo  \n",
       "tweet_id                                           \n",
       "855851453814013952   True    False   False   True  \n",
       "854010172552949760   True     True   False  False  \n",
       "817777686764523521   True    False    True  False  \n",
       "808106460588765185   True    False    True  False  \n",
       "802265048156610565   True    False    True  False  \n",
       "801115127852503040   True    False    True  False  \n",
       "785639753186217984   True    False    True  False  \n",
       "781308096455073793   True    False    True  False  \n",
       "775898661951791106   True    False    True  False  \n",
       "770093767776997377   True    False    True  False  \n",
       "759793422261743616   True    False    True  False  \n",
       "751583847268179968   True    False    True  False  \n",
       "741067306818797568   True    False    True  False  \n",
       "733109485275860992   True    False    True  False  "
      ]
     },
     "execution_count": 52,
     "metadata": {},
     "output_type": "execute_result"
    }
   ],
   "source": [
    "stage_cols = ['doggo', 'floofer', 'pupper', 'puppo']\n",
    "clean_enhanced_tweets_df.loc[clean_enhanced_tweets_df[stage_cols].sum(axis=1) > 1][['text'] + stage_cols]"
   ]
  },
  {
   "cell_type": "markdown",
   "metadata": {},
   "source": [
    "**Count tweets where the top scoring breed prediction is below 0.5** "
   ]
  },
  {
   "cell_type": "code",
   "execution_count": 53,
   "metadata": {},
   "outputs": [],
   "source": [
    "dog_preds = clean_predictions_df.loc[(clean_predictions_df['pred_rank'] == 1) \\\n",
    "                                     & clean_predictions_df['pred_is_dog']]"
   ]
  },
  {
   "cell_type": "code",
   "execution_count": 54,
   "metadata": {},
   "outputs": [
    {
     "data": {
      "text/plain": [
       "559"
      ]
     },
     "execution_count": 54,
     "metadata": {},
     "output_type": "execute_result"
    }
   ],
   "source": [
    "len(dog_preds[dog_preds['pred_confidence'] < 0.5].index)"
   ]
  },
  {
   "cell_type": "markdown",
   "metadata": {},
   "source": [
    "Now we are going to generate some visualisations:\n",
    "\n",
    "1. First, based on the top image prediction, look at the frequency distribution for the top 10 breeds only, based on number of tweets\n",
    "2. Now look at the frequency distribution for the top 10 breeds only, based on aggregate number of favorites"
   ]
  },
  {
   "cell_type": "markdown",
   "metadata": {},
   "source": [
    "**Breed prediction distribution by number of tweets**"
   ]
  },
  {
   "cell_type": "code",
   "execution_count": 55,
   "metadata": {},
   "outputs": [
    {
     "data": {
      "text/plain": [
       "<AxesSubplot:ylabel='pred_class'>"
      ]
     },
     "execution_count": 55,
     "metadata": {},
     "output_type": "execute_result"
    },
    {
     "data": {
      "image/png": "[encoded data removed]",
      "text/plain": [
       "<Figure size 432x288 with 1 Axes>"
      ]
     },
     "metadata": {},
     "output_type": "display_data"
    }
   ],
   "source": [
    "dog_preds['pred_class'].value_counts(sort=True)[0:10].plot.pie()"
   ]
  },
  {
   "cell_type": "markdown",
   "metadata": {},
   "source": [
    "**Breed prediction distribution by number of favorites**"
   ]
  },
  {
   "cell_type": "code",
   "execution_count": 56,
   "metadata": {
    "scrolled": true
   },
   "outputs": [
    {
     "data": {
      "text/plain": [
       "<AxesSubplot:ylabel='favorite_counts'>"
      ]
     },
     "execution_count": 56,
     "metadata": {},
     "output_type": "execute_result"
    },
    {
     "data": {
      "image/png": "[encoded data removed]",
      "text/plain": [
       "<Figure size 432x288 with 1 Axes>"
      ]
     },
     "metadata": {},
     "output_type": "display_data"
    }
   ],
   "source": [
    "dog_preds.join(clean_enhanced_tweets_df['favorite_counts']).groupby(['pred_class']) \\\n",
    "    .sum().sort_values(by='favorite_counts', ascending=False)[0:10]['favorite_counts'].plot.pie()"
   ]
  },
  {
   "cell_type": "markdown",
   "metadata": {},
   "source": [
    "---\n",
    "---\n",
    "\n",
    "## Predict breeds from images"
   ]
  },
  {
   "cell_type": "markdown",
   "metadata": {},
   "source": [
    "### Background"
   ]
  },
  {
   "cell_type": "markdown",
   "metadata": {},
   "source": [
    "In this section we will setup a model to predict dog breeds from the image associated with each tweet. Whilst we have no way to verify that our predictions are accurate, we can compare our top 3 predictions against the top 3 predictions downloaded earlier."
   ]
  },
  {
   "cell_type": "markdown",
   "metadata": {},
   "source": [
    "### Analysis of downloaded predictions"
   ]
  },
  {
   "cell_type": "markdown",
   "metadata": {},
   "source": [
    "Lets analyse the predictions which we downloaded earlier. Here are the things we are interested in:\n",
    "\n",
    "* image model and labels used\n",
    "* model evaluation metrics\n",
    "* examine failure cases\n",
    "* establishing a baseline"
   ]
  },
  {
   "cell_type": "markdown",
   "metadata": {},
   "source": [
    "#### Image model and labels used"
   ]
  },
  {
   "cell_type": "markdown",
   "metadata": {},
   "source": [
    "One of the most popular and well establish image datasets and models used in image based machine learning is [ImageNet](http://www.image-net.org) so this will be our 1st candidate. Readable labels can be viewed [here](https://gist.github.com/yrevar/942d3a0ac09ec9e5eb3a), and a quick check against the predicted dog breeds we downloaded earlier confirms that the same labels are used, with spaces in between words being replaced by underscores.\n",
    "\n",
    "This version of ImageNet covers 1000 classes, covering animals as well as inanimate objects. Dogs breeds specifically are in the class index range 151 - 280, so 130 breeds are covered. Again, checking the labels downloaded earlier, these match the ImageNet labels.\n",
    "\n",
    "As far as pre-trained models goes, PyTorch provides a model zoo that includes ImageNet models: [PyTorch ](https://pytorch.org/docs/stable/torchvision/models.html). These models have 3 main uses:\n",
    "\n",
    "1. load without weights as an empty model, randomly initialise the weights and then train the model\n",
    "1. load with weights (i.e.: pre-trained) and use as is, to generate predictions against new images\n",
    "1. load with weights, and further train on new labelled instances (the transfer learning use case)\n",
    "\n",
    "Given we don't have any new labelled dog images, we cannot further train, so will use as is (2nd use case)."
   ]
  },
  {
   "cell_type": "markdown",
   "metadata": {},
   "source": [
    "#### Model evaluation metrics"
   ]
  },
  {
   "cell_type": "markdown",
   "metadata": {},
   "source": [
    "ImageNet is a curated set of images, where each image represents one instance of a single class, and no other classes (i.e.: if there are other objects in the image, they do not belong to any of the classes in ImageNet). \n",
    "\n",
    "This is a great if you want to train a multi-class classifier, as the class showing the strongest recognition is the one predicted. In general, for each image prediction, such a classifier will output:\n",
    "\n",
    "1. a predicted class index, corresponding to the label for that class\n",
    "1. optionally a confidence score (or a probability) in the range 0.0 - 1.0 associated with the above prediction\n",
    "\n",
    "The prediction data we have been given includes the top 3 predictions against each image, ordered by decreasing confidence. Lets sum these confidence scores, and see what range they fall in."
   ]
  },
  {
   "cell_type": "code",
   "execution_count": null,
   "metadata": {
    "scrolled": false
   },
   "outputs": [],
   "source": [
    "sum_preds = img_preds_df[['p1_conf', 'p2_conf', 'p3_conf']].sum(axis=1)\n",
    "print(len(sum_preds))\n",
    "sum_preds.plot.hist()"
   ]
  },
  {
   "cell_type": "markdown",
   "metadata": {},
   "source": [
    "Looking at the above histogram we can see that the majority of predictions add up to close to 1.0 (or 100%), suggesting that the model is strongly confident that one of its top-3 predictions correctly describes the image.\n",
    "\n",
    "However, around 5% of the images have a top-3 aggregate confidence below 0.5, suggesting not one of the prediction can be considered conclusive."
   ]
  },
  {
   "cell_type": "markdown",
   "metadata": {},
   "source": [
    "#### Examine failure cases"
   ]
  },
  {
   "cell_type": "markdown",
   "metadata": {},
   "source": [
    "Lets pull out the 20 lowests aggregate confidence score, and examine some of these tweets to see what the problems might be:"
   ]
  },
  {
   "cell_type": "code",
   "execution_count": null,
   "metadata": {},
   "outputs": [],
   "source": [
    "sum_preds.sort_values()[:20]"
   ]
  },
  {
   "cell_type": "markdown",
   "metadata": {},
   "source": [
    "Based on these, below are some tweet links for low confidence scores."
   ]
  },
  {
   "cell_type": "markdown",
   "metadata": {},
   "source": [
    "[Small dog image, undefined location, little else to recognise](https://twitter.com/dog_rates/status/719704490224398336)\n",
    "\n",
    "[Dog hidden inside toy](https://twitter.com/dog_rates/status/668625577880875008)\n",
    "\n",
    "[Not a dog, and not in ImageNet](https://twitter.com/dog_rates/status/670474236058800128)\n",
    "\n",
    "[Dog like inanimate object](https://twitter.com/dog_rates/status/671159727754231808)"
   ]
  },
  {
   "cell_type": "markdown",
   "metadata": {},
   "source": [
    "Another concern is the number of images where all 3 top predictions are coming up with a non-dog label, as in many cases these are erroneous. Let us see what percentage of images are only classified as a non-dog image."
   ]
  },
  {
   "cell_type": "code",
   "execution_count": null,
   "metadata": {
    "scrolled": false
   },
   "outputs": [],
   "source": [
    "not_dog = (~ img_preds_df[['p1_dog', 'p2_dog', 'p3_dog']]).all(axis=1)\n",
    "not_dog.sum() / len(img_preds_df.index)"
   ]
  },
  {
   "cell_type": "markdown",
   "metadata": {},
   "source": [
    "So over 15% of our dog images have been classified with no recognisable dog in them, based on the top 3 predictions.\n",
    "\n",
    "And here are some more problematic dog images found earlier, when examining more confident but non-dog predictions."
   ]
  },
  {
   "cell_type": "markdown",
   "metadata": {},
   "source": [
    "[Hidden dog classified as an orange, bagel or banana](https://pbs.twimg.com/media/DGKD1-bXoAAIAUK.jpg)\n",
    "\n",
    "[No dog recognised, only jigsaw puzzle](https://pbs.twimg.com/media/CUS9PlUWwAANeAD.jpg)\n",
    "\n",
    "[Packaging recognised as it overwhelms the image, but no dog seen](https://pbs.twimg.com/media/CVQnPMrVAAAzShR.jpg)\n",
    "\n",
    "[Similar to above, furniture recognised, but dog not seen](https://pbs.twimg.com/media/CVL6op1WEAAUFE7.jpg)\n",
    "\n",
    "[Recognised as shopping trolley and shopping basket, but no dog in contents](https://pbs.twimg.com/media/CT5PY90WoAAQGLo.jpg)"
   ]
  },
  {
   "cell_type": "markdown",
   "metadata": {},
   "source": [
    "#### Establishing a baseline"
   ]
  },
  {
   "cell_type": "markdown",
   "metadata": {},
   "source": [
    "We want to establish a baseline for model prediction against the tweet images dataset, which we will try and improve upon. \n",
    "\n",
    "Since we don't have labelled images with their true classes (we only have the top 3 **predicted** classes for each image), then we have no way to measure accuracy. This leaves a couple of other possible metrics:\n",
    "\n",
    "1. improved confidence scores, implying that the model's top 3 predictions are now stronger. We will measure mean and standard deviation across the top 3 confidence scores in the downloaded predictions dataset, and the new predictions dataset, and compare those metrics (we want to see a higher mean, and lower standard deviation, see **below** for this metric)\n",
    "1. percentage of non-dog predictions, as some of these should have been classified as dog images. We know that there are plenty of genuine non-dog images, many correctly classified, however some dog images are also getting classified as non-dog. We aim to reduce the overall count of non-dog images in the hope that less of them erroneously include a dog (see **previous section** for this metric)"
   ]
  },
  {
   "cell_type": "code",
   "execution_count": null,
   "metadata": {},
   "outputs": [],
   "source": [
    "# mean across the 3 prediction confidence columns\n",
    "\n",
    "img_preds_df[['p1_conf', 'p2_conf', 'p3_conf']].mean(axis=0)"
   ]
  },
  {
   "cell_type": "code",
   "execution_count": null,
   "metadata": {},
   "outputs": [],
   "source": [
    "# std across the 3 prediction confidence columns\n",
    "\n",
    "img_preds_df[['p1_conf', 'p2_conf', 'p3_conf']].std(axis=0)"
   ]
  },
  {
   "cell_type": "markdown",
   "metadata": {},
   "source": [
    "### Inference improvements"
   ]
  },
  {
   "cell_type": "markdown",
   "metadata": {},
   "source": [
    "Based on the previous analysis, we will now describe some potential inference improvements. First, lets summaries the main challenges we face with the downloaded tweet image predictions dataset:\n",
    "\n",
    "1. our tweet image may contain objects belonging to multiple ImageNet classes, including dogs, and other objects or animals that are not dogs. Furthermore, those other classes (e.g.: a large piece of furniture) may be more prominent in the image, and may generate recognition scores higher than those associated with any dog class in that same image.\n",
    "  * implicit in the above observation is the fact that the meaning of what the top 3 predictions are, changes: if multi-label classification is now relevant, then 3 labels may rightly be associated with any single image\n",
    "1. images where the dog portion of the image is very small. Maybe the dog is hidden within the background, or the dog is wearing clothing, or it is partially obscured, so that much lower dog predictions are generated, and don't make it into the top 3. This can be true even when the rest of the image is noisy, and those top 3 predictions themselves are not very strong\n",
    "\n",
    "The first challenge is a classification problem, in so much as we need to treat an image with multiple classes as a multi-label (not just multi-class) classification: zero, one, or more than one label may be associated with any single image. Remember, this is not the problem that ImageNet tries to solve, because the ImageNet datasets are curated to ensure that only one class (and always one class) appears in each training image.\n",
    "\n",
    "The second challenge presents a quality problem: we have samples were a large proportion of the image is unrecognisable, and within which the dog part is small, or may be incomplete, or obscured or distorted.\n",
    "\n",
    "Let's look at a sample problem image and discuss some possible improvements we can make:-"
   ]
  },
  {
   "cell_type": "markdown",
   "metadata": {},
   "source": [
    "![Small dog on furniture](https://pbs.twimg.com/media/CVL6op1WEAAUFE7.jpg)"
   ]
  },
  {
   "cell_type": "markdown",
   "metadata": {},
   "source": [
    "This image (corresponding to tweet id [671874878652489728](https://twitter.com/dog_rates/status/671874878652489728)) is labelled thus, including associated confidence score:\n",
    "\n",
    "1. `china_cabinet           0.996031`\n",
    "1. `entertainment_center    0.001985`\n",
    "1. `bookcase                0.001652`\n",
    "\n",
    "In other words, it is overwhelmingly (and correctly) described as a china cabinet, with 99% confidence. Furthermore, the 2nd and 3rd predictions (with close to 0.2% confidence) are also furniture related. \n",
    "\n",
    "Of course, as we only see the top 3 predictions, we don't know if the 4th, 5th or 6th ranked prediction might have been for a dog, and if the correct dog breed might have been chosen. But even if they were, they would come in under a 0.0016% confidence score, versus the 99.6% confidence score on the 1st ranked prediction for _china_cabinet_!\n",
    "\n",
    "So what are the challenges that this kind of tweet image creates?\n",
    "\n",
    "1. first and foremost, many such images contain objects belonging to other ImageNet classes that are not dog breeds, in addition to any dogs that may be in them. These non-dog objects may occupy a larger portion of the image, may have better recognised features, and may emerge from the classifier as the primary prediction\n",
    "1. ImageNet based classifiers are multi-class classifiers: they associate every image with one, and only one, class. But in practice our tweet may require a multi-label classifier, which associates each image with zero or more classes, one of which may be a dog breed\n",
    "1. multi-class classifiers tend to feed the final fully connected layer into a softmax layer, which will output a probability distribution across all classes. Each class output is between 0.0 and 1.0, and the sum of all class outputs will be 1, which is the pattern the confidence scores in our data seem to follow. Softmax pushes for one clear winning class, with a higher probability than the others, and therefore doesn't lend itself to multi-label classification\n",
    "1. ImageNet includes some broad categories of classes such as dog breeds, other animals, furniture, etc. Since the classifier is single label, the top 3 predictions tend to relate to the same feature, and predictions for other classes in the image just get lost (as the classifier wasn't trained that way)\n",
    "\n",
    "So lets be explicit about the assumptions we are making, regarding the tweet image predictions data, and how the model that generated this data works:\n",
    "\n",
    "1. the image classes output by the classifier belong to ImageNet, the classifier used is a multi-class (thus single-label) classifier, and the 3 predictions given are the top 3 single-label predictions\n",
    "1. being a single-label classifier, the predictions are output by a softmax layer, and we are taking the top 3 highest values across the probability distribution generated by the softmax\n",
    "1. images may or may not contain a dog, hence the is_dog boolean associated with each prediction, and defined by whether the predicted class is a dog breed or not\n",
    "1. for a given image, the top 3 predictions may be a mix of dog and non-dog classes, as is observed in the data\n",
    "1. for simplicity we will assume that, when an image does include a dog, a single dog breed is associated with that image (some images may break this assumption). We can then apply softmax across the subset of outputs for dog classes to pick that single dog breed\n",
    "\n",
    "How can we address these challenges?\n",
    "\n",
    "..."
   ]
  },
  {
   "cell_type": "markdown",
   "metadata": {},
   "source": [
    "#### Dealing with multi-label images"
   ]
  },
  {
   "cell_type": "markdown",
   "metadata": {},
   "source": [
    "As previously mentioned, the ImageNet image datasets are multi-class but single-label: one, and only one class is associated with each image. Such a classifier usually takes the output of the final fully connected linear layer in the model, and puts it through a softmax layer, which will output a probability distribution across all classes: each output corresponding to each class will be between 0.0 and 1.0, and all 10000 outputs will add up to 1.0. \n",
    "\n",
    "Implicit in this model are a number of assumptions:\n",
    "\n",
    "* the output with the highest probability is assumed to be the strongest class prediction, and is the class label assigned to the image\n",
    "* the set of all output classes represent the known universe of classes, hence their assigned probabilities must all add up to 1.0\n",
    "* each and every image must belong to exactly one class in this universe of classes\n",
    "\n",
    "Whilst these assumptions hold for ImageNet's curated, they rapidly break down in the real world of tweet images. For example, take the image below:"
   ]
  },
  {
   "cell_type": "markdown",
   "metadata": {},
   "source": [
    "We don't know how the model used to generate the downloaded predictions generates its confidence score, although given that the top 3 predictions always add up to a number close to 1.0 (but never higher) we can assume that the top 3 confidence scores are the top 3 highest values output by a softmax layer.\n",
    "\n",
    "As softmax will squish down all the predictions so they add up to 1.0 whilst maintaining the relative value between each, lower ranked predictions end up being quite small numbers. This makes sense for a multi-class classifier, where a single and most relevant label gets assigned to each image. But it doesn't make sense when multiple ImageNet classes can appear within the same tweet image, and this is more of a multi-label classification challenge.\n",
    "\n",
    "Multi-label classifiers usually take the output of the final fully connected liner layer in the model, and put it through a sigmoid layer, which will output a probability distribution across all classes: each output corresponding to each class will be between 0.0 and 1.0, but all outputs are independent of each other, since multiple labels can be associated with the image. There is no constraint about them having to add up to 1.0."
   ]
  },
  {
   "cell_type": "markdown",
   "metadata": {},
   "source": [
    "However sigmoid alone isn't going to fix our problem. With softmax, we take the index of the highest value output by the softmax, and use that class index to assign a single label to the image. However, with sigmoid we need a cutoff value above which each output is considered a positive indicator, and the relevant label (and potentially multiple or no labels) is assigned to the sample image. Given sigmoid outputs are also treated as probabilities, by convention 0.5 is the chosen cutoff. However for different datasets, and different models, it may make sense to tune this value.\n",
    "\n",
    "We need to decide how we want our classification model to work, and we need to base it on some observed assumptions:\n",
    "\n",
    "1. most images will have dogs in them, in most cases the image will have a single dog, this is the dog named and referred to in the tweet text; we want to classify the image with the class corresponding to that dog's breed\n",
    "  * the above assumption breaks if there is more than one dog in the image, and they are of different breeds\n",
    "1. where there is no dog, there must be another well recognised object in the image; we want to classify the image with the class of that object\n",
    "\n",
    "Where we believe we have a dog, we will take the subset of model outputs corresponding to dog classes, and put that through softmax to obtain the top 3 predicted breeds. In this senario, softmax will make sure that all our 130 dog breed probabilities add up to 1.0, as this is our complete universe of classes.\n",
    "\n",
    "Below we define our classification logic:\n",
    "\n",
    "```\n",
    "* take the dog breed outputs (class indices 151 - 280) and run them through sigmoid\n",
    "* then:\n",
    "  * take the max output value of the sigmoid\n",
    "  * if the max is >= is_dog_cutoff \n",
    "  * then: True -> is_dog\n",
    "  * else: False -> is_dog\n",
    "* if is_dog is True then:\n",
    "  * take dog breed (class indices 151 - 280) final layer outputs, and put through softmax\n",
    "  * take the top 3 highest softmax outputs\n",
    "  * adjust the class indices to the subset start position (offset +151)\n",
    "    * use the class index to assign the class label\n",
    "    * use the class probability as confidence score\n",
    "* else:\n",
    "  * put all outputs through softmax\n",
    "  * take the top 3 highest softmax outputs\n",
    "    * use the class index to assign the class label\n",
    "    * use the class probability as confidence score\n",
    "```\n",
    "\n",
    "In some ways the above logic acts as a binary classifier: we initially predict if a dog is present or not in the image. Both the subsequent classifications are multi-class (and single-label) for each of the top 3 predictions, and we use softmax to obtain a confidence score, which we believe is how the downloaded predictions were made. However, where we believe a dog is present in the image, the model outputs used for breed prediction is limited to those outputs corresponding to dog breeds.\n",
    "\n",
    "Furthermore, given the initial binary classifier nature of this approach, if we decide to make a dog prediction, all top 3 predictions will be for dog breeds. Otherwise, we will make predictions across the full set of classes, and given that in that scenario, the dog predictions were low, its is unlikely the predictions across all classes would include a dog breed (in the top 3) however it is not impossible. So the second scenario could lead to mixed predictions (non-dog objects and dogs in the top 3 prediction)."
   ]
  },
  {
   "cell_type": "markdown",
   "metadata": {},
   "source": [
    "#### Dealing with small or partial dog images"
   ]
  },
  {
   "cell_type": "markdown",
   "metadata": {},
   "source": [
    "The classification logic previously described should improve recognition of small dog features, in the scenario where a larger non-dog feature is also being recognised and assigned a higher probability. But where the dog image is small or partially hidden, or surrounded by a noisy background, the best way to improve classifier performance may be to restrict it to more relevant parts of the image.\n",
    "\n",
    "There are two obvious ways to approach this requirement:\n",
    "\n",
    "1. build a dog image recogniser that can localise the dog within the image (e.g.: framing rectangle), then take that rectangle as a cropped image, and feed it into the dog breed classifier\n",
    "1. use test time augmentation to dice the image into smaller crops, classify each of these crops independently, then pick the strongest result in a manner analogous to a model ensemble \n",
    "\n",
    "Whilst the 1st approach sounds like the most effective, it requires us to build/train an accurate dog recogniser, which is challenging. The downside to the 2nd approach is that the crops taken may or may not land in the best place for any specific image, although using an ensemble type approach can sometimes produce more robust results.\n",
    "\n",
    "For simplicity we will follow the 2nd approach. Each individual crop will be classified using the logic described in the previous section. The logic we then need to apply must select the crop with the strongest predictions, and we will do this by selecting the crop with the highest 1st confidence score. To be clear, once that crop is selected, all top 3 predictions will come from that same crop, for consistency. \n",
    "\n",
    "This is the crop selection logic we will use:\n",
    "\n",
    "```\n",
    "* select crops where is_dog is True\n",
    "* then:\n",
    "  * pick the crop with the highest 1st prediction confidence score (across dog classes)\n",
    "  * use that crop's scores as the overall prediction\n",
    "* otherwise: \n",
    "  * pick the crop with the highest 1st prediction confidence score (across all classes)\n",
    "  * use that crop's scores as the overall prediction\n",
    "```\n",
    "\n",
    "So we prefer dog predictions: if any image crops are classified as a dog, we take the highest prediction amongst those crops (even when there may be higher non-dog predictions). But if no crops is classified as a dog, then we just take the highest prediction amongst all crops."
   ]
  },
  {
   "cell_type": "markdown",
   "metadata": {},
   "source": [
    "### Evaluating the suggested inference improvements"
   ]
  },
  {
   "cell_type": "markdown",
   "metadata": {},
   "source": [
    "We will design our classifier so that the two suggested inference improvements can be evaluated independently, and then in combination with each other, using the baseline metrics previously selected. "
   ]
  },
  {
   "cell_type": "markdown",
   "metadata": {},
   "source": [
    "### Setup data loading"
   ]
  },
  {
   "cell_type": "markdown",
   "metadata": {},
   "source": [
    "Next we setup the Pytorch data loading classes required to load the test data from each image URL. For convenience this dataset class also handles files in a local directory, and in both cases the list of file ids (and optional labels) is supplied in a dataframe, previously loaded from a CSV file."
   ]
  },
  {
   "cell_type": "code",
   "execution_count": null,
   "metadata": {},
   "outputs": [],
   "source": [
    "from PIL import Image, ImageFile, UnidentifiedImageError\n",
    "import requests\n",
    "from io import BytesIO\n",
    "\n",
    "\n",
    "class ImageDataFrameDataset:\n",
    "    \n",
    "    def __init__(self, \n",
    "                 df,  \n",
    "                 img_col,\n",
    "                 lbl_col=None,\n",
    "                 img_dir=None, \n",
    "                 transform=None):\n",
    "        \"\"\"\n",
    "        Args:\n",
    "            df: a dataframe holding class labels and, either an image Id, the image file, or an image URL\n",
    "            img_col: column holding image file name (either the name without suffix, or the full URL)\n",
    "            lbl_col: optional column holding image label\n",
    "            img_dir: an optional directory in which to find the image files (unless remote)\n",
    "            transfor: optional transform, or chain of transforms\n",
    "        \"\"\"\n",
    "        self.df = df\n",
    "        self.img_col = img_col\n",
    "        self.lbl_col = lbl_col\n",
    "        self.img_dir = img_dir\n",
    "        self.transform = transform       \n",
    "\n",
    "        if self.lbl_col is not None:\n",
    "            self.classes, self.class_to_idx = self._find_classes(self.df[self.lbl_col])\n",
    "            self.labels = [self.class_to_idx[getattr(row, self.lbl_col)] \n",
    "                           for row in self.df.itertuples()]\n",
    "        else:\n",
    "            self.labels = None\n",
    "                \n",
    "        if self.img_dir is None:\n",
    "            self.session = requests.Session()\n",
    "\n",
    "        self.samples = [self._read_image(getattr(row, self.img_col))\n",
    "                        for row in self.df.itertuples()]\n",
    "\n",
    "    def _read_image(self, resource):\n",
    "        ImageFile.LOAD_TRUNCATED_IMAGES = True\n",
    "        \n",
    "        if self.img_dir is not None:\n",
    "            file_name = f'{self.img_dir}/{resource}.jpg'\n",
    "            with open(file_name, 'rb') as fd:\n",
    "                image = Image.open(fd)\n",
    "                return image.convert('RGB')\n",
    "        else:\n",
    "            response = self.session.get(resource, stream=True)\n",
    "            if response.status_code == 200:\n",
    "                response.raw.decode_content = True\n",
    "                try:\n",
    "                    image = Image.open(response.raw)\n",
    "                    return image.convert('RGB')\n",
    "                except UnidentifiedImageError as ex:\n",
    "                    print(f'Image open failed for URL {resource}, exception {ex}')\n",
    "            return Image.new('RGB', (224, 224))\n",
    "                    \n",
    "    def _find_classes(self, series):\n",
    "        classes = series.unique()\n",
    "        classes.sort()\n",
    "        class_to_idx = {cls_name: i for i, cls_name in enumerate(classes)}\n",
    "        return classes, class_to_idx\n",
    "\n",
    "    def __getitem__(self, index):\n",
    "        if torch.is_tensor(index):\n",
    "            index = index.tolist()\n",
    "\n",
    "        image = self.samples[index]\n",
    "        if self.transform is not None:\n",
    "            image = self.transform(image)\n",
    "            \n",
    "        if self.labels is not None:\n",
    "            return image, self.labels[index]\n",
    "        else:\n",
    "            return image\n",
    "        \n",
    "    def __len__(self):\n",
    "        return len(self.samples)"
   ]
  },
  {
   "cell_type": "markdown",
   "metadata": {},
   "source": [
    "We configure the dataset and dataloader using the standard ImageNet normalisation, and an image size of 392 (along the shortest side, the longer side will be scaled to maintain the aspect ratio). From this image we next take 5 crops (centre, plus 4 corners) size 224 x 224, so at least 2 of the corner crops should overlap. We then double the number of samples by taking the mirror image of each of those crops.\n",
    "\n",
    "For example, if the image is portrait, then the left and right corners will overlap 25%, but the top and bottom corners may or may not overlap, depending on the aspect ratio. Likewise, the centre crop should overlap all 4 corner crops, unless the aspect ratio is less than 7:12. Hopefully, because of this crop overlap, one of the crops will include most any dog present in the larger image. \n",
    "\n",
    "Finally, we use 224 squared as the crop image size because 224 x 224 is the target image size that ImageNet models are trained on."
   ]
  },
  {
   "cell_type": "code",
   "execution_count": null,
   "metadata": {},
   "outputs": [],
   "source": [
    "import os\n",
    "from torchvision import datasets, transforms\n",
    "from torch.utils import data\n",
    "import torch\n",
    "\n",
    "batch_size = 96\n",
    "do_use_cuda = True\n",
    "\n",
    "if do_use_cuda:\n",
    "    compute_device = torch.device('cuda')\n",
    "    do_pin_memory = True\n",
    "else:\n",
    "    compute_device = torch.device('cpu')\n",
    "    do_pin_memory = False\n",
    "\n",
    "image_transforms = transforms.Compose([\n",
    "    transforms.Resize(size=256),\n",
    "    transforms.CenterCrop(224),\n",
    "    transforms.Normalize(mean=(0.485, 0.456, 0.406),\n",
    "                         std=(0.229, 0.224, 0.225))\n",
    "])\n",
    "\n",
    "crop_transforms = transforms.Compose([\n",
    "    transforms.Resize(size=392),\n",
    "    transforms.TenCrop(224),\n",
    "    transforms.Lambda(lambda crops: [transforms.functional.to_tensor(crop) for crop in crops]),\n",
    "    transforms.Lambda(lambda crops: torch.stack(\n",
    "        [transforms.functional.normalize(crop,\n",
    "                                         mean=(0.485, 0.456, 0.406),\n",
    "                                         std=(0.229, 0.224, 0.225)) for crop in crops]))\n",
    "])"
   ]
  },
  {
   "cell_type": "code",
   "execution_count": null,
   "metadata": {},
   "outputs": [],
   "source": [
    "%%time\n",
    "test_image_ds = ImageDataFrameDataset(clean_img_preds_df, \n",
    "                                      'jpg_url',\n",
    "                                      transform=image_transforms)"
   ]
  },
  {
   "cell_type": "code",
   "execution_count": null,
   "metadata": {},
   "outputs": [],
   "source": [
    "test_image_dl = data.DataLoader(test_image_ds,\n",
    "                                batch_size=batch_size,\n",
    "                                pin_memory=do_pin_memory)"
   ]
  },
  {
   "cell_type": "code",
   "execution_count": null,
   "metadata": {},
   "outputs": [],
   "source": [
    "%%time\n",
    "test_crop_ds = ImageDataFrameDataset(clean_img_preds_df,\n",
    "                                     'jpg_url',\n",
    "                                     transform=crop_transforms)"
   ]
  },
  {
   "cell_type": "code",
   "execution_count": null,
   "metadata": {},
   "outputs": [],
   "source": [
    "test_crop_dl = data.DataLoader(test_crop_ds,\n",
    "                               batch_size=batch_size,\n",
    "                               pin_memory=do_pin_memory)"
   ]
  },
  {
   "cell_type": "markdown",
   "metadata": {},
   "source": [
    "### Image scoring functions"
   ]
  },
  {
   "cell_type": "markdown",
   "metadata": {},
   "source": [
    "Each prediction scoring function takes a batch of size (N, *, 1000) entries holding the outputs from the model's last layer (with an optional dimension representing image crops), and returns a tuple consisting of:\n",
    "\n",
    "* N booleans indicating if it is a dog breed class or not\n",
    "* an (N, 3) `LongTensor` holding class indices for the top 3 predictions\n",
    "* an (N, 3) `FloatTensor` holding the top 3 probabilities (aka confidence scores)"
   ]
  },
  {
   "cell_type": "code",
   "execution_count": null,
   "metadata": {},
   "outputs": [],
   "source": [
    "import torch.nn.functional as F\n",
    "\n",
    "\n",
    "def score_dog_breed_images(preds, is_dog_cutoff):\n",
    "    \n",
    "    # Which predictions look like dog predictions?\n",
    "    is_dog = torch.sigmoid(preds[:, 151:280]).gt(is_dog_cutoff).any(dim=-1)\n",
    "    \n",
    "    # Generate top 3 softmax scores for the subset of dog breed classes\n",
    "    dog_top_3 = F.softmax(preds[:, 151:280], dim=-1).topk(3, dim=-1)\n",
    "    dog_top_3.indices.add_(151)\n",
    "    \n",
    "    # Generate top 3 softmax scores for all ImageNet classes\n",
    "    all_top_3 = F.softmax(preds, dim=-1).topk(3, dim=-1)\n",
    "\n",
    "\n",
    "    # Pick per-sample class prediction and score from the relevant universe\n",
    "    top_3_class = torch.where(is_dog.unsqueeze(dim=1), dog_top_3.indices, all_top_3.indices)\n",
    "    top_3_scores = torch.where(is_dog.unsqueeze(dim=1), dog_top_3.values, all_top_3.values)\n",
    "    \n",
    "    return is_dog, top_3_class, top_3_scores"
   ]
  },
  {
   "cell_type": "code",
   "execution_count": null,
   "metadata": {},
   "outputs": [],
   "source": [
    "def score_images(preds):\n",
    "    \n",
    "    # Generate top 3 softmax scores for all ImageNet classes\n",
    "    all_top_3 = F.softmax(preds, dim=-1).topk(3, dim=-1)\n",
    "    is_dog = (all_top_3.indices.ge(151) & all_top_3.indices.le(280))\n",
    "\n",
    "    return is_dog, all_top_3.indices, all_top_3.values"
   ]
  },
  {
   "cell_type": "code",
   "execution_count": null,
   "metadata": {},
   "outputs": [],
   "source": [
    "def score_image_crops(preds, score_fn=None, *args):\n",
    "    \n",
    "    assert len(preds.shape) == 3, 'Expect tensor shape (N, *, 1000) where * is the number of crops (e.g.: 10)'\n",
    "    assert score_fn is not None, 'You must specify score_fn=...'\n",
    "\n",
    "    \n",
    "    # Score each crop individually, using the supplied image scoring function\n",
    "    are_dogs = []\n",
    "    class_indices = []\n",
    "    class_probas = []\n",
    "    for idx in range(preds.shape[1]):\n",
    "        is_dog, class_idx, cls_proba = score_fn(preds[:, idx], *args)\n",
    "        are_dogs.append(is_dog)\n",
    "        class_indices.append(class_idx)\n",
    "        class_probas.append(cls_proba)\n",
    "    are_dogs = torch.stack(are_dogs, dim=1)\n",
    "    class_indices = torch.stack(class_indices, dim=1)\n",
    "    class_probas = torch.stack(class_probas, dim=1)\n",
    "    print(f'class_probas.shape={class_probas.shape}')\n",
    "\n",
    "    \n",
    "    # Which images have crops classified as dogs, for convenience zero their non-dog\n",
    "    is_dog_crop = are_dogs[:, :, :].any(dim=-1)\n",
    "    \n",
    "    return are_dogs, class_indices, class_probas"
   ]
  },
  {
   "cell_type": "code",
   "execution_count": null,
   "metadata": {},
   "outputs": [],
   "source": [
    "test_preds = torch.FloatTensor(batch_size, 10, 1000).normal_(-1.0, 1.0)\n",
    "is_dog_cutoff = 0.80\n",
    "\n",
    "is_dog, top3_classes, top3_scores = score_image_crops(test_preds, \n",
    "                                                      is_dog_cutoff=is_dog_cutoff,\n",
    "                                                      score_fn=score_images)\n",
    "\n",
    "is_dog.shape, top3_classes.shape, top3_scores.shape\n",
    "is_dog, top3_classes"
   ]
  },
  {
   "cell_type": "code",
   "execution_count": null,
   "metadata": {},
   "outputs": [],
   "source": [
    "test_preds = torch.FloatTensor(batch_size, 1000).normal_(-1.0, 1.0)\n",
    "is_dog_cutoff = 0.80\n",
    "\n",
    "is_dog, top3_classes, top3_scores = score_dog_breed_images(test_preds, is_dog_cutoff)\n",
    "\n",
    "is_dog.shape, top3_classes.shape, top3_scores.shape\n",
    "# is_dog, top3_classes\n",
    "\n",
    "# torch.sigmoid(test_preds[:, 151:280]).gt(is_dog_cutoff).shape"
   ]
  },
  {
   "cell_type": "markdown",
   "metadata": {},
   "source": [
    "### Generate image predictions"
   ]
  },
  {
   "cell_type": "markdown",
   "metadata": {},
   "source": [
    "We will use the 34 layer version of ResNet pre-trained on the ImageNet dataset with 1000 labelled classes, as our prediction model. By taking the pre-trained model, we will only perform inference here, using the tweet images in the test dataset. We start by loding the pretrained model."
   ]
  },
  {
   "cell_type": "code",
   "execution_count": null,
   "metadata": {},
   "outputs": [],
   "source": [
    "import torchvision.models as models\n",
    "import torch.nn as nn\n",
    "\n",
    "model = models.resnet34(pretrained=True)\n",
    "model = model.to(compute_device, non_blocking=True)"
   ]
  },
  {
   "cell_type": "markdown",
   "metadata": {},
   "source": [
    "We setup hyper-parameters driving our test time augmentation and scoring."
   ]
  },
  {
   "cell_type": "code",
   "execution_count": null,
   "metadata": {},
   "outputs": [],
   "source": [
    "# Setup some hyperparameters\n",
    "\n",
    "sigmoid_proba_cutoff = 0.5\n",
    "feature_rank_depth = 3\n",
    "dog_class_idx_from = 151\n",
    "dog_class_idx_to = 280\n",
    "\n",
    "# Set the model to evaluation mode \n",
    "# (changes behaviour of batchnorm and dropout layers)\n",
    "\n",
    "model.eval()\n",
    "\n",
    "num_crops = 10\n",
    "print(f'Using compute device: {compute_device}')"
   ]
  },
  {
   "cell_type": "markdown",
   "metadata": {},
   "source": [
    "Next we iterate through our test dataset, one minibatch at a time, and each batch goes through test time data augmentation iteratively: we use PyTorch's TenCrop transformer to generate 5 crops of the image (the 4 corners plus a center crop) plus another  224 square, which is the target image size that ImageNet is trained on. We will also generate 5 coresponding mirror images (aka horiontal flip). Given a batch size N, each mini-batch will consist of \\[N x 10 x 3 x 224 x 224\\] tensors, where 10 is the 5 crops and again for the flipped versions, and 3 is the channel depth (RGB)."
   ]
  },
  {
   "cell_type": "code",
   "execution_count": null,
   "metadata": {
    "scrolled": true
   },
   "outputs": [],
   "source": [
    "%%time\n",
    "for batch_num, data in enumerate(test_dl):\n",
    "    \n",
    "    crop_preds = []\n",
    "\n",
    "#     stats = torch.cuda.memory_summary(compute_device)\n",
    "#     print(f'At loop {batch_num}, stats {stats}')\n",
    "    \n",
    "    # Loop through each stacked crop\n",
    "    for crop_idx in range(10): #(num_crops):\n",
    "        with torch.no_grad():\n",
    "            crop = data[:, crop_idx].clone()\n",
    "            crop = crop.to(compute_device)\n",
    "            crop_pred = model(crop)\n",
    "            print(crop_pred.sort(dim=-1, descending=True))\n",
    "            crop_preds.append(crop_pred)\n",
    "\n",
    "    preds = torch.stack(crop_preds, dim=1)\n",
    "    top_k_preds = preds.topk(feature_rank_depth, dim=-1)\n",
    "#     print(top_k_preds[0:10])"
   ]
  },
  {
   "cell_type": "code",
   "execution_count": null,
   "metadata": {},
   "outputs": [],
   "source": [
    "del model\n",
    "torch.cuda.empty_cache()"
   ]
  },
  {
   "cell_type": "code",
   "execution_count": null,
   "metadata": {},
   "outputs": [],
   "source": []
  },
  {
   "cell_type": "code",
   "execution_count": null,
   "metadata": {},
   "outputs": [],
   "source": []
  },
  {
   "cell_type": "code",
   "execution_count": null,
   "metadata": {},
   "outputs": [],
   "source": []
  },
  {
   "cell_type": "code",
   "execution_count": null,
   "metadata": {},
   "outputs": [],
   "source": []
  },
  {
   "cell_type": "code",
   "execution_count": null,
   "metadata": {},
   "outputs": [],
   "source": []
  },
  {
   "cell_type": "markdown",
   "metadata": {},
   "source": [
    "### Generate internal report"
   ]
  },
  {
   "cell_type": "markdown",
   "metadata": {},
   "source": [
    "Having cleaned the data, and generated data insights, we can now generate the internal documentation from this notebook's markdown cells.\n",
    "\n",
    "(you probably want to clear all output previous to the data insights output generated in the last section, and then SAVE the notebook)"
   ]
  },
  {
   "cell_type": "code",
   "execution_count": null,
   "metadata": {},
   "outputs": [],
   "source": [
    "# !jupyter nbconvert --no-input --to pdf wrangle_act.ipynb\n",
    "# !mv wrangle_act.pdf wrangle_report.pdf"
   ]
  },
  {
   "cell_type": "code",
   "execution_count": null,
   "metadata": {},
   "outputs": [],
   "source": []
  }
 ],
 "metadata": {
  "kernelspec": {
   "display_name": "Python 3",
   "language": "python",
   "name": "python3"
  },
  "language_info": {
   "codemirror_mode": {
    "name": "ipython",
    "version": 3
   },
   "file_extension": ".py",
   "mimetype": "text/x-python",
   "name": "python",
   "nbconvert_exporter": "python",
   "pygments_lexer": "ipython3",
   "version": "3.6.12"
  }
 },
 "nbformat": 4,
 "nbformat_minor": 1
}
